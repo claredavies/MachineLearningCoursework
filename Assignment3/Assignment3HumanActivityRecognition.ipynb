{
  "cells": [
    {
      "cell_type": "markdown",
      "metadata": {
        "id": "view-in-github",
        "colab_type": "text"
      },
      "source": [
        "<a href=\"https://colab.research.google.com/github/claredavies/MachineLearningCoursework/blob/main/Assignment3/Assignment3HumanActivityRecognition.ipynb\" target=\"_parent\"><img src=\"https://colab.research.google.com/assets/colab-badge.svg\" alt=\"Open In Colab\"/></a>"
      ]
    },
    {
      "cell_type": "markdown",
      "metadata": {
        "id": "Y40F4EVsSxu8"
      },
      "source": [
        "<html><h1><center style=\"color:blue\">Human Activity Recognition with Smartphones</center></h1></html>"
      ]
    },
    {
      "cell_type": "markdown",
      "source": [
        "# Load in Libraries"
      ],
      "metadata": {
        "id": "lckrlG-xzuk2"
      }
    },
    {
      "cell_type": "code",
      "source": [
        "import matplotlib as mlt\n",
        "import matplotlib.pyplot as plt\n",
        "import seaborn as sns\n",
        "import numpy as np\n",
        "import pandas as pd\n",
        "from sklearn.cluster import DBSCAN\n",
        "from sklearn.ensemble import RandomForestClassifier\n",
        "from sklearn.neighbors import NearestNeighbors\n",
        "from sklearn import metrics\n",
        "from sklearn.preprocessing import StandardScaler\n",
        "from sklearn import metrics\n",
        "from sklearn.decomposition import PCA\n",
        "from sklearn.manifold import TSNE\n",
        "from matplotlib.colors import rgb2hex\n",
        "from matplotlib.cm import get_cmap\n",
        "\n",
        "!python -m pip install 'fsspec>=0.3.3'\n",
        "import tracemalloc\n",
        "import pandas as pd\n",
        "import dask.dataframe as dd\n",
        "import time\n",
        "\n",
        "from IPython.display import display\n",
        "from mpl_toolkits.mplot3d import Axes3D\n",
        "from sklearn.metrics import homogeneity_score, completeness_score, \\\n",
        "v_measure_score, adjusted_rand_score, adjusted_mutual_info_score, silhouette_score\n",
        "%matplotlib inline\n",
        "\n",
        "pd.set_option('display.max_rows', None)"
      ],
      "metadata": {
        "id": "PjFiEFX9U7iK",
        "colab": {
          "base_uri": "https://localhost:8080/"
        },
        "outputId": "6bf75a90-6ae7-42b2-b7c3-eb12c91e9d44"
      },
      "execution_count": 60,
      "outputs": [
        {
          "output_type": "stream",
          "name": "stdout",
          "text": [
            "Requirement already satisfied: fsspec>=0.3.3 in /usr/local/lib/python3.7/dist-packages (2022.2.0)\n"
          ]
        }
      ]
    },
    {
      "cell_type": "markdown",
      "source": [
        "# Read in Files"
      ],
      "metadata": {
        "id": "6F_KrGwiz1W-"
      }
    },
    {
      "cell_type": "markdown",
      "source": [
        "Upload zip UCI HAR Dataset.zip"
      ],
      "metadata": {
        "id": "7RNdwjZ5Tl02"
      }
    },
    {
      "cell_type": "code",
      "source": [
        "!unzip \"UCI HAR Dataset.zip\""
      ],
      "metadata": {
        "colab": {
          "base_uri": "https://localhost:8080/"
        },
        "id": "aWNrKJHkVF5e",
        "outputId": "5e8eb240-0e5b-4688-ed09-a20a7881ac33"
      },
      "execution_count": 61,
      "outputs": [
        {
          "output_type": "stream",
          "name": "stdout",
          "text": [
            "Archive:  UCI HAR Dataset.zip\n",
            "replace UCI HAR Dataset/.DS_Store? [y]es, [n]o, [A]ll, [N]one, [r]ename: "
          ]
        }
      ]
    },
    {
      "cell_type": "code",
      "execution_count": 62,
      "metadata": {
        "colab": {
          "base_uri": "https://localhost:8080/"
        },
        "id": "VNwZzSpHSxvE",
        "outputId": "c3dcadb1-bf38-4f4d-bd24-2da8e053deb1"
      },
      "outputs": [
        {
          "output_type": "stream",
          "name": "stdout",
          "text": [
            "No of Features: 561\n"
          ]
        }
      ],
      "source": [
        "# get the features from the file features.txt\n",
        "features = list()\n",
        "with open('UCI HAR Dataset/features.txt') as f:\n",
        "    features = [line.split()[1] for line in f.readlines()]\n",
        "print('No of Features: {}'.format(len(features)))"
      ]
    },
    {
      "cell_type": "code",
      "source": [
        "# get the features from the file features.txt\n",
        "features = list()\n",
        "with open('UCI HAR Dataset/features.txt') as f:\n",
        "    features = [line.split()[1] for line in f.readlines()]\n",
        "print('No of Features: {}'.format(len(features)))\n",
        "\n",
        "# get the data from txt files to pandas dataffame\n",
        "X_train = pd.read_csv('UCI HAR Dataset/train/X_train.txt', delim_whitespace=True, header=None)\n",
        "X_train.columns = [features]\n",
        "# add subject column to the dataframe\n",
        "X_train['subject'] = pd.read_csv('UCI HAR Dataset/train/subject_train.txt', header=None, squeeze=True)\n",
        "\n",
        "y_train = pd.read_csv('UCI HAR Dataset/train/y_train.txt', names=['Activity'], squeeze=True)\n",
        "y_train_labels = y_train.map({1: 'WALKING', 2:'WALKING_UPSTAIRS',3:'WALKING_DOWNSTAIRS',\\\n",
        "                       4:'SITTING', 5:'STANDING',6:'LAYING'})\n",
        "\n",
        "# put all columns in a single dataframe\n",
        "train = X_train\n",
        "train['Activity'] = y_train\n",
        "train['ActivityName'] = y_train_labels"
      ],
      "metadata": {
        "colab": {
          "base_uri": "https://localhost:8080/"
        },
        "id": "55WpLpuXzWw-",
        "outputId": "97d050fd-2a87-46b5-ded3-ec0de70abf0b"
      },
      "execution_count": 63,
      "outputs": [
        {
          "output_type": "stream",
          "name": "stdout",
          "text": [
            "No of Features: 561\n"
          ]
        }
      ]
    },
    {
      "cell_type": "code",
      "source": [
        "print('Shape of the data set: ' + str(train.shape))"
      ],
      "metadata": {
        "colab": {
          "base_uri": "https://localhost:8080/"
        },
        "id": "SgMgdpuizhns",
        "outputId": "7dd62fb7-75ee-4505-cb05-494f1091e09f"
      },
      "execution_count": 64,
      "outputs": [
        {
          "output_type": "stream",
          "name": "stdout",
          "text": [
            "Shape of the data set: (7352, 564)\n"
          ]
        }
      ]
    },
    {
      "cell_type": "markdown",
      "source": [
        "# Data Exploration"
      ],
      "metadata": {
        "id": "BsVNI-UxYStE"
      }
    },
    {
      "cell_type": "markdown",
      "metadata": {
        "id": "NP2WlyLNSxvM"
      },
      "source": [
        "### 1. Check for Duplicates"
      ]
    },
    {
      "cell_type": "code",
      "execution_count": 65,
      "metadata": {
        "colab": {
          "base_uri": "https://localhost:8080/"
        },
        "id": "pnH4Hr73SxvN",
        "outputId": "c8d3ad30-97e2-439c-cac9-d5237abadaf7"
      },
      "outputs": [
        {
          "output_type": "stream",
          "name": "stderr",
          "text": [
            "/usr/local/lib/python3.7/dist-packages/ipykernel/ipkernel.py:208: PerformanceWarning: indexing past lexsort depth may impact performance.\n",
            "  res = shell.run_cell(code, store_history=store_history, silent=silent)\n"
          ]
        },
        {
          "output_type": "stream",
          "name": "stdout",
          "text": [
            "No of duplicates in train: 0\n"
          ]
        }
      ],
      "source": [
        "print('No of duplicates in train: {}'.format(sum(train.duplicated())))"
      ]
    },
    {
      "cell_type": "markdown",
      "metadata": {
        "id": "D10ZctbFSxvO"
      },
      "source": [
        "### 2. Checking for NaN/null values"
      ]
    },
    {
      "cell_type": "code",
      "execution_count": 66,
      "metadata": {
        "colab": {
          "base_uri": "https://localhost:8080/"
        },
        "id": "Vh4-b7idSxvO",
        "outputId": "6c1d9499-b5f5-40d2-c9c2-eaee254b2415"
      },
      "outputs": [
        {
          "output_type": "stream",
          "name": "stdout",
          "text": [
            "We have 0 NaN/Null values in train\n"
          ]
        }
      ],
      "source": [
        "print('We have {} NaN/Null values in train'.format(train.isnull().values.sum()))"
      ]
    },
    {
      "cell_type": "code",
      "source": [
        "train.to_csv('train.csv', index=False)\n",
        "train = pd.read_csv('train.csv')"
      ],
      "metadata": {
        "id": "Z6CzAC4LTZEP"
      },
      "execution_count": 67,
      "outputs": []
    },
    {
      "cell_type": "code",
      "source": [
        "columns = train.columns\n",
        "\n",
        "# Removing '()' from column names\n",
        "columns = columns.str.replace('[()]','')\n",
        "columns = columns.str.replace('[-]', '')\n",
        "columns = columns.str.replace('[,]','')\n",
        "\n",
        "train.columns = columns"
      ],
      "metadata": {
        "colab": {
          "base_uri": "https://localhost:8080/"
        },
        "id": "eedPhK8iUnkx",
        "outputId": "04d7d2ce-3bba-41e2-877f-33ebc42a1e14"
      },
      "execution_count": 68,
      "outputs": [
        {
          "output_type": "stream",
          "name": "stderr",
          "text": [
            "/usr/local/lib/python3.7/dist-packages/ipykernel_launcher.py:4: FutureWarning: The default value of regex will change from True to False in a future version.\n",
            "  after removing the cwd from sys.path.\n",
            "/usr/local/lib/python3.7/dist-packages/ipykernel_launcher.py:5: FutureWarning: The default value of regex will change from True to False in a future version.\n",
            "  \"\"\"\n",
            "/usr/local/lib/python3.7/dist-packages/ipykernel_launcher.py:6: FutureWarning: The default value of regex will change from True to False in a future version.\n",
            "  \n"
          ]
        }
      ]
    },
    {
      "cell_type": "markdown",
      "source": [
        "Activity per Subject"
      ],
      "metadata": {
        "id": "M_aAT-_tVTXo"
      }
    },
    {
      "cell_type": "code",
      "source": [
        "plt.figure(figsize=(16,8))\n",
        "plt.title('Data provided by each user', fontsize=20)\n",
        "sns.countplot(x='subject',hue='ActivityName', data = train)\n",
        "plt.show()"
      ],
      "metadata": {
        "colab": {
          "base_uri": "https://localhost:8080/",
          "height": 518
        },
        "id": "7Y-JCMo3Ut0i",
        "outputId": "20c9b947-f8aa-491a-ad15-8b71d42c3eb9"
      },
      "execution_count": 69,
      "outputs": [
        {
          "output_type": "display_data",
          "data": {
            "image/png": "[encoded data removed]",
            "text/plain": [
              "<Figure size 1152x576 with 1 Axes>"
            ]
          },
          "metadata": {
            "needs_background": "light"
          }
        }
      ]
    },
    {
      "cell_type": "markdown",
      "source": [
        "Activity Count"
      ],
      "metadata": {
        "id": "dO0vJDvoWySy"
      }
    },
    {
      "cell_type": "code",
      "source": [
        "sns.countplot(x ='ActivityName', data = train)\n",
        "plt.xticks(rotation=90)\n",
        "plt.title(\"Count per Activity\")"
      ],
      "metadata": {
        "colab": {
          "base_uri": "https://localhost:8080/",
          "height": 421
        },
        "id": "eBiQAZC7Vb-X",
        "outputId": "38abd275-7763-4ff4-d617-0c5c60bbfdf1"
      },
      "execution_count": 70,
      "outputs": [
        {
          "output_type": "execute_result",
          "data": {
            "text/plain": [
              "Text(0.5, 1.0, 'Count per Activity')"
            ]
          },
          "metadata": {},
          "execution_count": 70
        },
        {
          "output_type": "display_data",
          "data": {
            "image/png": "[encoded data removed]",
            "text/plain": [
              "<Figure size 432x288 with 1 Axes>"
            ]
          },
          "metadata": {
            "needs_background": "light"
          }
        }
      ]
    },
    {
      "cell_type": "markdown",
      "source": [
        "Moving vs Stationary Activities"
      ],
      "metadata": {
        "id": "mUMlw3XpYHrk"
      }
    },
    {
      "cell_type": "code",
      "source": [
        "# for plotting purposes taking datapoints of each activity to a different dataframe\n",
        "df1 = train[train['Activity']==1]\n",
        "df2 = train[train['Activity']==2]\n",
        "df3 = train[train['Activity']==3]\n",
        "df4 = train[train['Activity']==4]\n",
        "df5 = train[train['Activity']==5]\n",
        "df6 = train[train['Activity']==6]\n",
        "\n",
        "plt.figure(figsize=(14,7))\n",
        "plt.subplot(2,2,1)\n",
        "plt.title('Stationary Activities(Zoomed in)')\n",
        "sns.distplot(df4['tBodyAccMagmean'],color = 'r',hist = False, label = 'Sitting')\n",
        "sns.distplot(df5['tBodyAccMagmean'],color = 'm',hist = False,label = 'Standing')\n",
        "sns.distplot(df6['tBodyAccMagmean'],color = 'c',hist = False, label = 'Laying')\n",
        "plt.axis([-1.08, -0.2, 0.1, 20])\n",
        "plt.legend(loc='center')\n",
        "\n",
        "plt.subplot(2,2,2)\n",
        "plt.title('Moving Activities')\n",
        "sns.distplot(df1['tBodyAccMagmean'],color = 'red',hist = False, label = 'Walking')\n",
        "sns.distplot(df2['tBodyAccMagmean'],color = 'blue',hist = False,label = 'Walking Up')\n",
        "sns.distplot(df3['tBodyAccMagmean'],color = 'green',hist = False, label = 'Walking down')\n",
        "plt.legend(loc='center right')\n",
        "\n",
        "\n",
        "plt.tight_layout()\n",
        "plt.show()"
      ],
      "metadata": {
        "colab": {
          "base_uri": "https://localhost:8080/",
          "height": 518
        },
        "id": "A0Wtz1WZXogl",
        "outputId": "7a3da286-bcba-42f5-df64-3db802fb35ed"
      },
      "execution_count": 71,
      "outputs": [
        {
          "output_type": "stream",
          "name": "stderr",
          "text": [
            "/usr/local/lib/python3.7/dist-packages/seaborn/distributions.py:2619: FutureWarning: `distplot` is a deprecated function and will be removed in a future version. Please adapt your code to use either `displot` (a figure-level function with similar flexibility) or `kdeplot` (an axes-level function for kernel density plots).\n",
            "  warnings.warn(msg, FutureWarning)\n",
            "/usr/local/lib/python3.7/dist-packages/seaborn/distributions.py:2619: FutureWarning: `distplot` is a deprecated function and will be removed in a future version. Please adapt your code to use either `displot` (a figure-level function with similar flexibility) or `kdeplot` (an axes-level function for kernel density plots).\n",
            "  warnings.warn(msg, FutureWarning)\n",
            "/usr/local/lib/python3.7/dist-packages/seaborn/distributions.py:2619: FutureWarning: `distplot` is a deprecated function and will be removed in a future version. Please adapt your code to use either `displot` (a figure-level function with similar flexibility) or `kdeplot` (an axes-level function for kernel density plots).\n",
            "  warnings.warn(msg, FutureWarning)\n",
            "/usr/local/lib/python3.7/dist-packages/seaborn/distributions.py:2619: FutureWarning: `distplot` is a deprecated function and will be removed in a future version. Please adapt your code to use either `displot` (a figure-level function with similar flexibility) or `kdeplot` (an axes-level function for kernel density plots).\n",
            "  warnings.warn(msg, FutureWarning)\n",
            "/usr/local/lib/python3.7/dist-packages/seaborn/distributions.py:2619: FutureWarning: `distplot` is a deprecated function and will be removed in a future version. Please adapt your code to use either `displot` (a figure-level function with similar flexibility) or `kdeplot` (an axes-level function for kernel density plots).\n",
            "  warnings.warn(msg, FutureWarning)\n",
            "/usr/local/lib/python3.7/dist-packages/seaborn/distributions.py:2619: FutureWarning: `distplot` is a deprecated function and will be removed in a future version. Please adapt your code to use either `displot` (a figure-level function with similar flexibility) or `kdeplot` (an axes-level function for kernel density plots).\n",
            "  warnings.warn(msg, FutureWarning)\n"
          ]
        },
        {
          "output_type": "display_data",
          "data": {
            "image/png": "[encoded data removed]",
            "text/plain": [
              "<Figure size 1008x504 with 2 Axes>"
            ]
          },
          "metadata": {
            "needs_background": "light"
          }
        }
      ]
    },
    {
      "cell_type": "markdown",
      "source": [
        "# Pre-processing"
      ],
      "metadata": {
        "id": "a0jKBoulz8bD"
      }
    },
    {
      "cell_type": "code",
      "source": [
        "#save labels as string\n",
        "X_train = train.drop(['subject', 'Activity','ActivityName'], axis=1)\n",
        "y_train = train['ActivityName']"
      ],
      "metadata": {
        "id": "4mc7UusfzoPf"
      },
      "execution_count": 218,
      "outputs": []
    },
    {
      "cell_type": "code",
      "source": [
        "conditions = [(train['Activity'] <= 3),(train['Activity'] > 3)]\n",
        "\n",
        "# create a list of the values we want to assign for each condition\n",
        "values = ['stationary', 'moving']\n",
        "y_train_binary = np.select(conditions, values)"
      ],
      "metadata": {
        "id": "oPQDSLqNxKmC"
      },
      "execution_count": 219,
      "outputs": []
    },
    {
      "cell_type": "code",
      "source": [
        "X_train.head()"
      ],
      "metadata": {
        "colab": {
          "base_uri": "https://localhost:8080/",
          "height": 300
        },
        "id": "EdmL_JiWDCsj",
        "outputId": "a4d1ac3f-9f76-4838-f2a4-689dd37274af"
      },
      "execution_count": 73,
      "outputs": [
        {
          "output_type": "execute_result",
          "data": {
            "text/html": [
              "\n",
              "  <div id=\"df-4dced0c2-2f82-400c-852b-6a379fdb031f\">\n",
              "    <div class=\"colab-df-container\">\n",
              "      <div>\n",
              "<style scoped>\n",
              "    .dataframe tbody tr th:only-of-type {\n",
              "        vertical-align: middle;\n",
              "    }\n",
              "\n",
              "    .dataframe tbody tr th {\n",
              "        vertical-align: top;\n",
              "    }\n",
              "\n",
              "    .dataframe thead th {\n",
              "        text-align: right;\n",
              "    }\n",
              "</style>\n",
              "<table border=\"1\" class=\"dataframe\">\n",
              "  <thead>\n",
              "    <tr style=\"text-align: right;\">\n",
              "      <th></th>\n",
              "      <th>tBodyAccmeanX</th>\n",
              "      <th>tBodyAccmeanY</th>\n",
              "      <th>tBodyAccmeanZ</th>\n",
              "      <th>tBodyAccstdX</th>\n",
              "      <th>tBodyAccstdY</th>\n",
              "      <th>tBodyAccstdZ</th>\n",
              "      <th>tBodyAccmadX</th>\n",
              "      <th>tBodyAccmadY</th>\n",
              "      <th>tBodyAccmadZ</th>\n",
              "      <th>tBodyAccmaxX</th>\n",
              "      <th>tBodyAccmaxY</th>\n",
              "      <th>tBodyAccmaxZ</th>\n",
              "      <th>tBodyAccminX</th>\n",
              "      <th>tBodyAccminY</th>\n",
              "      <th>tBodyAccminZ</th>\n",
              "      <th>tBodyAccsma</th>\n",
              "      <th>tBodyAccenergyX</th>\n",
              "      <th>tBodyAccenergyY</th>\n",
              "      <th>tBodyAccenergyZ</th>\n",
              "      <th>tBodyAcciqrX</th>\n",
              "      <th>tBodyAcciqrY</th>\n",
              "      <th>tBodyAcciqrZ</th>\n",
              "      <th>tBodyAccentropyX</th>\n",
              "      <th>tBodyAccentropyY</th>\n",
              "      <th>tBodyAccentropyZ</th>\n",
              "      <th>tBodyAccarCoeffX1</th>\n",
              "      <th>tBodyAccarCoeffX2</th>\n",
              "      <th>tBodyAccarCoeffX3</th>\n",
              "      <th>tBodyAccarCoeffX4</th>\n",
              "      <th>tBodyAccarCoeffY1</th>\n",
              "      <th>tBodyAccarCoeffY2</th>\n",
              "      <th>tBodyAccarCoeffY3</th>\n",
              "      <th>tBodyAccarCoeffY4</th>\n",
              "      <th>tBodyAccarCoeffZ1</th>\n",
              "      <th>tBodyAccarCoeffZ2</th>\n",
              "      <th>tBodyAccarCoeffZ3</th>\n",
              "      <th>tBodyAccarCoeffZ4</th>\n",
              "      <th>tBodyAcccorrelationXY</th>\n",
              "      <th>tBodyAcccorrelationXZ</th>\n",
              "      <th>tBodyAcccorrelationYZ</th>\n",
              "      <th>...</th>\n",
              "      <th>fBodyBodyAccJerkMagenergy</th>\n",
              "      <th>fBodyBodyAccJerkMagiqr</th>\n",
              "      <th>fBodyBodyAccJerkMagentropy</th>\n",
              "      <th>fBodyBodyAccJerkMagmaxInds</th>\n",
              "      <th>fBodyBodyAccJerkMagmeanFreq</th>\n",
              "      <th>fBodyBodyAccJerkMagskewness</th>\n",
              "      <th>fBodyBodyAccJerkMagkurtosis</th>\n",
              "      <th>fBodyBodyGyroMagmean</th>\n",
              "      <th>fBodyBodyGyroMagstd</th>\n",
              "      <th>fBodyBodyGyroMagmad</th>\n",
              "      <th>fBodyBodyGyroMagmax</th>\n",
              "      <th>fBodyBodyGyroMagmin</th>\n",
              "      <th>fBodyBodyGyroMagsma</th>\n",
              "      <th>fBodyBodyGyroMagenergy</th>\n",
              "      <th>fBodyBodyGyroMagiqr</th>\n",
              "      <th>fBodyBodyGyroMagentropy</th>\n",
              "      <th>fBodyBodyGyroMagmaxInds</th>\n",
              "      <th>fBodyBodyGyroMagmeanFreq</th>\n",
              "      <th>fBodyBodyGyroMagskewness</th>\n",
              "      <th>fBodyBodyGyroMagkurtosis</th>\n",
              "      <th>fBodyBodyGyroJerkMagmean</th>\n",
              "      <th>fBodyBodyGyroJerkMagstd</th>\n",
              "      <th>fBodyBodyGyroJerkMagmad</th>\n",
              "      <th>fBodyBodyGyroJerkMagmax</th>\n",
              "      <th>fBodyBodyGyroJerkMagmin</th>\n",
              "      <th>fBodyBodyGyroJerkMagsma</th>\n",
              "      <th>fBodyBodyGyroJerkMagenergy</th>\n",
              "      <th>fBodyBodyGyroJerkMagiqr</th>\n",
              "      <th>fBodyBodyGyroJerkMagentropy</th>\n",
              "      <th>fBodyBodyGyroJerkMagmaxInds</th>\n",
              "      <th>fBodyBodyGyroJerkMagmeanFreq</th>\n",
              "      <th>fBodyBodyGyroJerkMagskewness</th>\n",
              "      <th>fBodyBodyGyroJerkMagkurtosis</th>\n",
              "      <th>angletBodyAccMeangravity</th>\n",
              "      <th>angletBodyAccJerkMeangravityMean</th>\n",
              "      <th>angletBodyGyroMeangravityMean</th>\n",
              "      <th>angletBodyGyroJerkMeangravityMean</th>\n",
              "      <th>angleXgravityMean</th>\n",
              "      <th>angleYgravityMean</th>\n",
              "      <th>angleZgravityMean</th>\n",
              "    </tr>\n",
              "  </thead>\n",
              "  <tbody>\n",
              "    <tr>\n",
              "      <th>0</th>\n",
              "      <td>0.288585</td>\n",
              "      <td>-0.020294</td>\n",
              "      <td>-0.132905</td>\n",
              "      <td>-0.995279</td>\n",
              "      <td>-0.983111</td>\n",
              "      <td>-0.913526</td>\n",
              "      <td>-0.995112</td>\n",
              "      <td>-0.983185</td>\n",
              "      <td>-0.923527</td>\n",
              "      <td>-0.934724</td>\n",
              "      <td>-0.567378</td>\n",
              "      <td>-0.744413</td>\n",
              "      <td>0.852947</td>\n",
              "      <td>0.685845</td>\n",
              "      <td>0.814263</td>\n",
              "      <td>-0.965523</td>\n",
              "      <td>-0.999945</td>\n",
              "      <td>-0.999863</td>\n",
              "      <td>-0.994612</td>\n",
              "      <td>-0.994231</td>\n",
              "      <td>-0.987614</td>\n",
              "      <td>-0.943220</td>\n",
              "      <td>-0.407747</td>\n",
              "      <td>-0.679338</td>\n",
              "      <td>-0.602122</td>\n",
              "      <td>0.929294</td>\n",
              "      <td>-0.853011</td>\n",
              "      <td>0.359910</td>\n",
              "      <td>-0.058526</td>\n",
              "      <td>0.256892</td>\n",
              "      <td>-0.224848</td>\n",
              "      <td>0.264106</td>\n",
              "      <td>-0.095246</td>\n",
              "      <td>0.278851</td>\n",
              "      <td>-0.465085</td>\n",
              "      <td>0.491936</td>\n",
              "      <td>-0.190884</td>\n",
              "      <td>0.376314</td>\n",
              "      <td>0.435129</td>\n",
              "      <td>0.660790</td>\n",
              "      <td>...</td>\n",
              "      <td>-0.999918</td>\n",
              "      <td>-0.991364</td>\n",
              "      <td>-1.0</td>\n",
              "      <td>-0.936508</td>\n",
              "      <td>0.346989</td>\n",
              "      <td>-0.516080</td>\n",
              "      <td>-0.802760</td>\n",
              "      <td>-0.980135</td>\n",
              "      <td>-0.961309</td>\n",
              "      <td>-0.973653</td>\n",
              "      <td>-0.952264</td>\n",
              "      <td>-0.989498</td>\n",
              "      <td>-0.980135</td>\n",
              "      <td>-0.999240</td>\n",
              "      <td>-0.992656</td>\n",
              "      <td>-0.701291</td>\n",
              "      <td>-1.000000</td>\n",
              "      <td>-0.128989</td>\n",
              "      <td>0.586156</td>\n",
              "      <td>0.374605</td>\n",
              "      <td>-0.991990</td>\n",
              "      <td>-0.990697</td>\n",
              "      <td>-0.989941</td>\n",
              "      <td>-0.992448</td>\n",
              "      <td>-0.991048</td>\n",
              "      <td>-0.991990</td>\n",
              "      <td>-0.999937</td>\n",
              "      <td>-0.990458</td>\n",
              "      <td>-0.871306</td>\n",
              "      <td>-1.000000</td>\n",
              "      <td>-0.074323</td>\n",
              "      <td>-0.298676</td>\n",
              "      <td>-0.710304</td>\n",
              "      <td>-0.112754</td>\n",
              "      <td>0.030400</td>\n",
              "      <td>-0.464761</td>\n",
              "      <td>-0.018446</td>\n",
              "      <td>-0.841247</td>\n",
              "      <td>0.179941</td>\n",
              "      <td>-0.058627</td>\n",
              "    </tr>\n",
              "    <tr>\n",
              "      <th>1</th>\n",
              "      <td>0.278419</td>\n",
              "      <td>-0.016411</td>\n",
              "      <td>-0.123520</td>\n",
              "      <td>-0.998245</td>\n",
              "      <td>-0.975300</td>\n",
              "      <td>-0.960322</td>\n",
              "      <td>-0.998807</td>\n",
              "      <td>-0.974914</td>\n",
              "      <td>-0.957686</td>\n",
              "      <td>-0.943068</td>\n",
              "      <td>-0.557851</td>\n",
              "      <td>-0.818409</td>\n",
              "      <td>0.849308</td>\n",
              "      <td>0.685845</td>\n",
              "      <td>0.822637</td>\n",
              "      <td>-0.981930</td>\n",
              "      <td>-0.999991</td>\n",
              "      <td>-0.999788</td>\n",
              "      <td>-0.998405</td>\n",
              "      <td>-0.999150</td>\n",
              "      <td>-0.977866</td>\n",
              "      <td>-0.948225</td>\n",
              "      <td>-0.714892</td>\n",
              "      <td>-0.500930</td>\n",
              "      <td>-0.570979</td>\n",
              "      <td>0.611627</td>\n",
              "      <td>-0.329549</td>\n",
              "      <td>0.284213</td>\n",
              "      <td>0.284595</td>\n",
              "      <td>0.115705</td>\n",
              "      <td>-0.090963</td>\n",
              "      <td>0.294310</td>\n",
              "      <td>-0.281211</td>\n",
              "      <td>0.085988</td>\n",
              "      <td>-0.022153</td>\n",
              "      <td>-0.016657</td>\n",
              "      <td>-0.220643</td>\n",
              "      <td>-0.013429</td>\n",
              "      <td>-0.072692</td>\n",
              "      <td>0.579382</td>\n",
              "      <td>...</td>\n",
              "      <td>-0.999867</td>\n",
              "      <td>-0.991134</td>\n",
              "      <td>-1.0</td>\n",
              "      <td>-0.841270</td>\n",
              "      <td>0.532061</td>\n",
              "      <td>-0.624871</td>\n",
              "      <td>-0.900160</td>\n",
              "      <td>-0.988296</td>\n",
              "      <td>-0.983322</td>\n",
              "      <td>-0.982659</td>\n",
              "      <td>-0.986321</td>\n",
              "      <td>-0.991829</td>\n",
              "      <td>-0.988296</td>\n",
              "      <td>-0.999811</td>\n",
              "      <td>-0.993979</td>\n",
              "      <td>-0.720683</td>\n",
              "      <td>-0.948718</td>\n",
              "      <td>-0.271958</td>\n",
              "      <td>-0.336310</td>\n",
              "      <td>-0.720015</td>\n",
              "      <td>-0.995854</td>\n",
              "      <td>-0.996399</td>\n",
              "      <td>-0.995442</td>\n",
              "      <td>-0.996866</td>\n",
              "      <td>-0.994440</td>\n",
              "      <td>-0.995854</td>\n",
              "      <td>-0.999981</td>\n",
              "      <td>-0.994544</td>\n",
              "      <td>-1.000000</td>\n",
              "      <td>-1.000000</td>\n",
              "      <td>0.158075</td>\n",
              "      <td>-0.595051</td>\n",
              "      <td>-0.861499</td>\n",
              "      <td>0.053477</td>\n",
              "      <td>-0.007435</td>\n",
              "      <td>-0.732626</td>\n",
              "      <td>0.703511</td>\n",
              "      <td>-0.844788</td>\n",
              "      <td>0.180289</td>\n",
              "      <td>-0.054317</td>\n",
              "    </tr>\n",
              "    <tr>\n",
              "      <th>2</th>\n",
              "      <td>0.279653</td>\n",
              "      <td>-0.019467</td>\n",
              "      <td>-0.113462</td>\n",
              "      <td>-0.995380</td>\n",
              "      <td>-0.967187</td>\n",
              "      <td>-0.978944</td>\n",
              "      <td>-0.996520</td>\n",
              "      <td>-0.963668</td>\n",
              "      <td>-0.977469</td>\n",
              "      <td>-0.938692</td>\n",
              "      <td>-0.557851</td>\n",
              "      <td>-0.818409</td>\n",
              "      <td>0.843609</td>\n",
              "      <td>0.682401</td>\n",
              "      <td>0.839344</td>\n",
              "      <td>-0.983478</td>\n",
              "      <td>-0.999969</td>\n",
              "      <td>-0.999660</td>\n",
              "      <td>-0.999470</td>\n",
              "      <td>-0.997130</td>\n",
              "      <td>-0.964810</td>\n",
              "      <td>-0.974675</td>\n",
              "      <td>-0.592235</td>\n",
              "      <td>-0.485821</td>\n",
              "      <td>-0.570979</td>\n",
              "      <td>0.273025</td>\n",
              "      <td>-0.086309</td>\n",
              "      <td>0.337202</td>\n",
              "      <td>-0.164739</td>\n",
              "      <td>0.017150</td>\n",
              "      <td>-0.074507</td>\n",
              "      <td>0.342256</td>\n",
              "      <td>-0.332564</td>\n",
              "      <td>0.239281</td>\n",
              "      <td>-0.136204</td>\n",
              "      <td>0.173863</td>\n",
              "      <td>-0.299493</td>\n",
              "      <td>-0.124698</td>\n",
              "      <td>-0.181105</td>\n",
              "      <td>0.608900</td>\n",
              "      <td>...</td>\n",
              "      <td>-0.999845</td>\n",
              "      <td>-0.986658</td>\n",
              "      <td>-1.0</td>\n",
              "      <td>-0.904762</td>\n",
              "      <td>0.660795</td>\n",
              "      <td>-0.724697</td>\n",
              "      <td>-0.928539</td>\n",
              "      <td>-0.989255</td>\n",
              "      <td>-0.986028</td>\n",
              "      <td>-0.984274</td>\n",
              "      <td>-0.990979</td>\n",
              "      <td>-0.995703</td>\n",
              "      <td>-0.989255</td>\n",
              "      <td>-0.999854</td>\n",
              "      <td>-0.993238</td>\n",
              "      <td>-0.736521</td>\n",
              "      <td>-0.794872</td>\n",
              "      <td>-0.212728</td>\n",
              "      <td>-0.535352</td>\n",
              "      <td>-0.871914</td>\n",
              "      <td>-0.995031</td>\n",
              "      <td>-0.995127</td>\n",
              "      <td>-0.994640</td>\n",
              "      <td>-0.996060</td>\n",
              "      <td>-0.995866</td>\n",
              "      <td>-0.995031</td>\n",
              "      <td>-0.999973</td>\n",
              "      <td>-0.993755</td>\n",
              "      <td>-1.000000</td>\n",
              "      <td>-0.555556</td>\n",
              "      <td>0.414503</td>\n",
              "      <td>-0.390748</td>\n",
              "      <td>-0.760104</td>\n",
              "      <td>-0.118559</td>\n",
              "      <td>0.177899</td>\n",
              "      <td>0.100699</td>\n",
              "      <td>0.808529</td>\n",
              "      <td>-0.848933</td>\n",
              "      <td>0.180637</td>\n",
              "      <td>-0.049118</td>\n",
              "    </tr>\n",
              "    <tr>\n",
              "      <th>3</th>\n",
              "      <td>0.279174</td>\n",
              "      <td>-0.026201</td>\n",
              "      <td>-0.123283</td>\n",
              "      <td>-0.996091</td>\n",
              "      <td>-0.983403</td>\n",
              "      <td>-0.990675</td>\n",
              "      <td>-0.997099</td>\n",
              "      <td>-0.982750</td>\n",
              "      <td>-0.989302</td>\n",
              "      <td>-0.938692</td>\n",
              "      <td>-0.576159</td>\n",
              "      <td>-0.829711</td>\n",
              "      <td>0.843609</td>\n",
              "      <td>0.682401</td>\n",
              "      <td>0.837869</td>\n",
              "      <td>-0.986093</td>\n",
              "      <td>-0.999976</td>\n",
              "      <td>-0.999736</td>\n",
              "      <td>-0.999504</td>\n",
              "      <td>-0.997180</td>\n",
              "      <td>-0.983799</td>\n",
              "      <td>-0.986007</td>\n",
              "      <td>-0.627446</td>\n",
              "      <td>-0.850930</td>\n",
              "      <td>-0.911872</td>\n",
              "      <td>0.061436</td>\n",
              "      <td>0.074840</td>\n",
              "      <td>0.198204</td>\n",
              "      <td>-0.264307</td>\n",
              "      <td>0.072545</td>\n",
              "      <td>-0.155320</td>\n",
              "      <td>0.323154</td>\n",
              "      <td>-0.170813</td>\n",
              "      <td>0.294938</td>\n",
              "      <td>-0.306081</td>\n",
              "      <td>0.482148</td>\n",
              "      <td>-0.470129</td>\n",
              "      <td>-0.305693</td>\n",
              "      <td>-0.362654</td>\n",
              "      <td>0.507459</td>\n",
              "      <td>...</td>\n",
              "      <td>-0.999895</td>\n",
              "      <td>-0.988055</td>\n",
              "      <td>-1.0</td>\n",
              "      <td>1.000000</td>\n",
              "      <td>0.678921</td>\n",
              "      <td>-0.701131</td>\n",
              "      <td>-0.909639</td>\n",
              "      <td>-0.989413</td>\n",
              "      <td>-0.987836</td>\n",
              "      <td>-0.986850</td>\n",
              "      <td>-0.986749</td>\n",
              "      <td>-0.996199</td>\n",
              "      <td>-0.989413</td>\n",
              "      <td>-0.999876</td>\n",
              "      <td>-0.989136</td>\n",
              "      <td>-0.720891</td>\n",
              "      <td>-1.000000</td>\n",
              "      <td>-0.035684</td>\n",
              "      <td>-0.230091</td>\n",
              "      <td>-0.511217</td>\n",
              "      <td>-0.995221</td>\n",
              "      <td>-0.995237</td>\n",
              "      <td>-0.995722</td>\n",
              "      <td>-0.995273</td>\n",
              "      <td>-0.995732</td>\n",
              "      <td>-0.995221</td>\n",
              "      <td>-0.999974</td>\n",
              "      <td>-0.995226</td>\n",
              "      <td>-0.955696</td>\n",
              "      <td>-0.936508</td>\n",
              "      <td>0.404573</td>\n",
              "      <td>-0.117290</td>\n",
              "      <td>-0.482845</td>\n",
              "      <td>-0.036788</td>\n",
              "      <td>-0.012892</td>\n",
              "      <td>0.640011</td>\n",
              "      <td>-0.485366</td>\n",
              "      <td>-0.848649</td>\n",
              "      <td>0.181935</td>\n",
              "      <td>-0.047663</td>\n",
              "    </tr>\n",
              "    <tr>\n",
              "      <th>4</th>\n",
              "      <td>0.276629</td>\n",
              "      <td>-0.016570</td>\n",
              "      <td>-0.115362</td>\n",
              "      <td>-0.998139</td>\n",
              "      <td>-0.980817</td>\n",
              "      <td>-0.990482</td>\n",
              "      <td>-0.998321</td>\n",
              "      <td>-0.979672</td>\n",
              "      <td>-0.990441</td>\n",
              "      <td>-0.942469</td>\n",
              "      <td>-0.569174</td>\n",
              "      <td>-0.824705</td>\n",
              "      <td>0.849095</td>\n",
              "      <td>0.683250</td>\n",
              "      <td>0.837869</td>\n",
              "      <td>-0.992653</td>\n",
              "      <td>-0.999991</td>\n",
              "      <td>-0.999856</td>\n",
              "      <td>-0.999757</td>\n",
              "      <td>-0.998004</td>\n",
              "      <td>-0.981232</td>\n",
              "      <td>-0.991325</td>\n",
              "      <td>-0.786553</td>\n",
              "      <td>-0.559477</td>\n",
              "      <td>-0.761434</td>\n",
              "      <td>0.313276</td>\n",
              "      <td>-0.131208</td>\n",
              "      <td>0.191161</td>\n",
              "      <td>0.086904</td>\n",
              "      <td>0.257615</td>\n",
              "      <td>-0.272505</td>\n",
              "      <td>0.434728</td>\n",
              "      <td>-0.315375</td>\n",
              "      <td>0.439744</td>\n",
              "      <td>-0.269069</td>\n",
              "      <td>0.179414</td>\n",
              "      <td>-0.088952</td>\n",
              "      <td>-0.155804</td>\n",
              "      <td>-0.189763</td>\n",
              "      <td>0.599213</td>\n",
              "      <td>...</td>\n",
              "      <td>-0.999941</td>\n",
              "      <td>-0.994169</td>\n",
              "      <td>-1.0</td>\n",
              "      <td>-1.000000</td>\n",
              "      <td>0.559058</td>\n",
              "      <td>-0.528901</td>\n",
              "      <td>-0.858933</td>\n",
              "      <td>-0.991433</td>\n",
              "      <td>-0.989059</td>\n",
              "      <td>-0.987744</td>\n",
              "      <td>-0.991462</td>\n",
              "      <td>-0.998353</td>\n",
              "      <td>-0.991433</td>\n",
              "      <td>-0.999902</td>\n",
              "      <td>-0.989321</td>\n",
              "      <td>-0.763372</td>\n",
              "      <td>-0.897436</td>\n",
              "      <td>-0.273582</td>\n",
              "      <td>-0.510282</td>\n",
              "      <td>-0.830702</td>\n",
              "      <td>-0.995093</td>\n",
              "      <td>-0.995465</td>\n",
              "      <td>-0.995279</td>\n",
              "      <td>-0.995609</td>\n",
              "      <td>-0.997418</td>\n",
              "      <td>-0.995093</td>\n",
              "      <td>-0.999974</td>\n",
              "      <td>-0.995487</td>\n",
              "      <td>-1.000000</td>\n",
              "      <td>-0.936508</td>\n",
              "      <td>0.087753</td>\n",
              "      <td>-0.351471</td>\n",
              "      <td>-0.699205</td>\n",
              "      <td>0.123320</td>\n",
              "      <td>0.122542</td>\n",
              "      <td>0.693578</td>\n",
              "      <td>-0.615971</td>\n",
              "      <td>-0.847865</td>\n",
              "      <td>0.185151</td>\n",
              "      <td>-0.043892</td>\n",
              "    </tr>\n",
              "  </tbody>\n",
              "</table>\n",
              "<p>5 rows × 561 columns</p>\n",
              "</div>\n",
              "      <button class=\"colab-df-convert\" onclick=\"convertToInteractive('df-4dced0c2-2f82-400c-852b-6a379fdb031f')\"\n",
              "              title=\"Convert this dataframe to an interactive table.\"\n",
              "              style=\"display:none;\">\n",
              "        \n",
              "  <svg xmlns=\"http://www.w3.org/2000/svg\" height=\"24px\"viewBox=\"0 0 24 24\"\n",
              "       width=\"24px\">\n",
              "    <path d=\"M0 0h24v24H0V0z\" fill=\"none\"/>\n",
              "    <path d=\"M18.56 5.44l.94 2.06.94-2.06 2.06-.94-2.06-.94-.94-2.06-.94 2.06-2.06.94zm-11 1L8.5 8.5l.94-2.06 2.06-.94-2.06-.94L8.5 2.5l-.94 2.06-2.06.94zm10 10l.94 2.06.94-2.06 2.06-.94-2.06-.94-.94-2.06-.94 2.06-2.06.94z\"/><path d=\"M17.41 7.96l-1.37-1.37c-.4-.4-.92-.59-1.43-.59-.52 0-1.04.2-1.43.59L10.3 9.45l-7.72 7.72c-.78.78-.78 2.05 0 2.83L4 21.41c.39.39.9.59 1.41.59.51 0 1.02-.2 1.41-.59l7.78-7.78 2.81-2.81c.8-.78.8-2.07 0-2.86zM5.41 20L4 18.59l7.72-7.72 1.47 1.35L5.41 20z\"/>\n",
              "  </svg>\n",
              "      </button>\n",
              "      \n",
              "  <style>\n",
              "    .colab-df-container {\n",
              "      display:flex;\n",
              "      flex-wrap:wrap;\n",
              "      gap: 12px;\n",
              "    }\n",
              "\n",
              "    .colab-df-convert {\n",
              "      background-color: #E8F0FE;\n",
              "      border: none;\n",
              "      border-radius: 50%;\n",
              "      cursor: pointer;\n",
              "      display: none;\n",
              "      fill: #1967D2;\n",
              "      height: 32px;\n",
              "      padding: 0 0 0 0;\n",
              "      width: 32px;\n",
              "    }\n",
              "\n",
              "    .colab-df-convert:hover {\n",
              "      background-color: #E2EBFA;\n",
              "      box-shadow: 0px 1px 2px rgba(60, 64, 67, 0.3), 0px 1px 3px 1px rgba(60, 64, 67, 0.15);\n",
              "      fill: #174EA6;\n",
              "    }\n",
              "\n",
              "    [theme=dark] .colab-df-convert {\n",
              "      background-color: #3B4455;\n",
              "      fill: #D2E3FC;\n",
              "    }\n",
              "\n",
              "    [theme=dark] .colab-df-convert:hover {\n",
              "      background-color: #434B5C;\n",
              "      box-shadow: 0px 1px 3px 1px rgba(0, 0, 0, 0.15);\n",
              "      filter: drop-shadow(0px 1px 2px rgba(0, 0, 0, 0.3));\n",
              "      fill: #FFFFFF;\n",
              "    }\n",
              "  </style>\n",
              "\n",
              "      <script>\n",
              "        const buttonEl =\n",
              "          document.querySelector('#df-4dced0c2-2f82-400c-852b-6a379fdb031f button.colab-df-convert');\n",
              "        buttonEl.style.display =\n",
              "          google.colab.kernel.accessAllowed ? 'block' : 'none';\n",
              "\n",
              "        async function convertToInteractive(key) {\n",
              "          const element = document.querySelector('#df-4dced0c2-2f82-400c-852b-6a379fdb031f');\n",
              "          const dataTable =\n",
              "            await google.colab.kernel.invokeFunction('convertToInteractive',\n",
              "                                                     [key], {});\n",
              "          if (!dataTable) return;\n",
              "\n",
              "          const docLinkHtml = 'Like what you see? Visit the ' +\n",
              "            '<a target=\"_blank\" href=https://colab.research.google.com/notebooks/data_table.ipynb>data table notebook</a>'\n",
              "            + ' to learn more about interactive tables.';\n",
              "          element.innerHTML = '';\n",
              "          dataTable['output_type'] = 'display_data';\n",
              "          await google.colab.output.renderOutput(dataTable, element);\n",
              "          const docLink = document.createElement('div');\n",
              "          docLink.innerHTML = docLinkHtml;\n",
              "          element.appendChild(docLink);\n",
              "        }\n",
              "      </script>\n",
              "    </div>\n",
              "  </div>\n",
              "  "
            ],
            "text/plain": [
              "   tBodyAccmeanX  tBodyAccmeanY  ...  angleYgravityMean  angleZgravityMean\n",
              "0       0.288585      -0.020294  ...           0.179941          -0.058627\n",
              "1       0.278419      -0.016411  ...           0.180289          -0.054317\n",
              "2       0.279653      -0.019467  ...           0.180637          -0.049118\n",
              "3       0.279174      -0.026201  ...           0.181935          -0.047663\n",
              "4       0.276629      -0.016570  ...           0.185151          -0.043892\n",
              "\n",
              "[5 rows x 561 columns]"
            ]
          },
          "metadata": {},
          "execution_count": 73
        }
      ]
    },
    {
      "cell_type": "code",
      "source": [
        "#normalize the dataset\n",
        "scaler = StandardScaler()\n",
        "X_train = scaler.fit_transform(X_train)"
      ],
      "metadata": {
        "id": "jdpALv4s0BmN"
      },
      "execution_count": 74,
      "outputs": []
    },
    {
      "cell_type": "markdown",
      "source": [
        "# Metrics"
      ],
      "metadata": {
        "id": "XqBz-X8oxeqM"
      }
    },
    {
      "cell_type": "code",
      "source": [
        "def get_dbscan_metrics(targets, c_labels):\n",
        "  evaluation_results = []\n",
        "  n_clusters_ = len(set(c_labels)) - (1 if -1 in c_labels else 0)\n",
        "  evaluation_results.append(n_clusters_)\n",
        "  evaluation_results.append(metrics.homogeneity_score(targets, c_labels))\n",
        "  evaluation_results.append(metrics.completeness_score(targets, c_labels))\n",
        "  evaluation_results.append(metrics.v_measure_score(targets, c_labels))\n",
        "  evaluation_results.append(metrics.adjusted_rand_score(targets,c_labels))\n",
        "  evaluation_results.append(metrics.adjusted_mutual_info_score(targets, c_labels))\n",
        "  return evaluation_results"
      ],
      "metadata": {
        "id": "NX9fxBJpti1n"
      },
      "execution_count": 75,
      "outputs": []
    },
    {
      "cell_type": "code",
      "source": [
        "from prettytable import PrettyTable\n",
        "def print_metrics(name_model, evaluation_results):\n",
        "  labels = ['name','no_clusters', 'homo','compl','v-meas','ARI','AMI']\n",
        "  results = evaluation_results  \n",
        "  results = [ '%.2f' % elem for elem in results ]\n",
        "  results.insert(0, name_model)\n",
        "  t = PrettyTable(labels)\n",
        "  t.add_row(results)\n",
        "  return t"
      ],
      "metadata": {
        "id": "qumtVe7Atd9R"
      },
      "execution_count": 76,
      "outputs": []
    },
    {
      "cell_type": "code",
      "source": [
        "# Plot the clusters\n",
        "def plot_dbscan_cluster(ax,title,dataframe,labels):\n",
        "  ax.scatter(dataframe[:, 0], dataframe[:,1], c = labels, cmap= \"plasma\") \n",
        "  ax.title.set_text(title)\n",
        "  ax.set_xlabel(\"Component 1\")\n",
        "  ax.set_ylabel(\"Component 2\")"
      ],
      "metadata": {
        "id": "cMQ6GEirztU3"
      },
      "execution_count": 248,
      "outputs": []
    },
    {
      "cell_type": "markdown",
      "source": [
        "# DBSCAN"
      ],
      "metadata": {
        "id": "fUYYDQXtBtkU"
      }
    },
    {
      "cell_type": "code",
      "source": [
        "def getDbscan(eps, min_samples, data_frame):\n",
        "    dbscan = DBSCAN(eps=eps, min_samples=min_samples).fit(data_frame)\n",
        "    dbscan.fit(data_frame)\n",
        "    c_labels = dbscan.labels_\n",
        "    return c_labels"
      ],
      "metadata": {
        "id": "QhGCQ9tG0Kls"
      },
      "execution_count": 77,
      "outputs": []
    },
    {
      "cell_type": "code",
      "source": [
        "def findDBSCANOptimalEpsilon(features,ns):\n",
        "  noOfPointsYouHave = len(features)\n",
        "  nbrs = NearestNeighbors(n_neighbors=ns).fit(features)\n",
        "  distances, indices = nbrs.kneighbors(features)\n",
        "  distanceDec = sorted(distances[:,ns-1], reverse=True)\n",
        "  plt.figure(figsize=(20,10))\n",
        "  plt.title(\"find optimal epsilon\")\n",
        "  plt.plot(list(range(1,noOfPointsYouHave+1)), distanceDec)"
      ],
      "metadata": {
        "id": "aLyorEsO1Y_R"
      },
      "execution_count": 279,
      "outputs": []
    },
    {
      "cell_type": "code",
      "source": [
        "findDBSCANOptimalEpsilon(X_train,4)"
      ],
      "metadata": {
        "colab": {
          "base_uri": "https://localhost:8080/",
          "height": 607
        },
        "id": "sHgRAfKR1Z4h",
        "outputId": "cdb01f36-6f3a-41c8-c183-1c780c2a993e"
      },
      "execution_count": 280,
      "outputs": [
        {
          "output_type": "display_data",
          "data": {
            "image/png": "[encoded data removed]",
            "text/plain": [
              "<Figure size 1440x720 with 1 Axes>"
            ]
          },
          "metadata": {
            "needs_background": "light"
          }
        }
      ]
    },
    {
      "cell_type": "code",
      "source": [
        "cluster_labels = getDbscan(3, 25, X_train)\n",
        "evaluation_metrics = get_dbscan_metrics(y_train_binary,cluster_labels)\n",
        "print(print_metrics('plain',evaluation_metrics))"
      ],
      "metadata": {
        "colab": {
          "base_uri": "https://localhost:8080/"
        },
        "id": "_Ss_jr9W1msJ",
        "outputId": "a4d16e21-af43-4633-d20e-9fe089b5955e"
      },
      "execution_count": 270,
      "outputs": [
        {
          "output_type": "stream",
          "name": "stdout",
          "text": [
            "+-------+-------------+------+-------+--------+------+------+\n",
            "|  name | no_clusters | homo | compl | v-meas | ARI  | AMI  |\n",
            "+-------+-------------+------+-------+--------+------+------+\n",
            "| plain |     3.00    | 0.17 |  0.20 |  0.18  | 0.03 | 0.18 |\n",
            "+-------+-------------+------+-------+--------+------+------+\n"
          ]
        }
      ]
    },
    {
      "cell_type": "markdown",
      "source": [
        "# PCA"
      ],
      "metadata": {
        "id": "9cfHGsEHAZQ4"
      }
    },
    {
      "cell_type": "code",
      "source": [
        "#check for optimal number of features\n",
        "pca = PCA(random_state=123)\n",
        "pca.fit(X_train)\n",
        "features = range(pca.n_components_)\n",
        "\n",
        "plt.figure(figsize=(8,4))\n",
        "plt.bar(features[:15], pca.explained_variance_[:15], color='lightskyblue')\n",
        "plt.xlabel('PCA feature')\n",
        "plt.ylabel('Variance')\n",
        "plt.xticks(features[:15])\n",
        "plt.show()"
      ],
      "metadata": {
        "colab": {
          "base_uri": "https://localhost:8080/",
          "height": 279
        },
        "id": "1wtmjBrdAgZg",
        "outputId": "c4bfc8e3-b872-40cf-be3d-d4539e4dc9d5"
      },
      "execution_count": 101,
      "outputs": [
        {
          "output_type": "display_data",
          "data": {
            "image/png": "[encoded data removed]",
            "text/plain": [
              "<Figure size 576x288 with 1 Axes>"
            ]
          },
          "metadata": {
            "needs_background": "light"
          }
        }
      ]
    },
    {
      "cell_type": "code",
      "source": [
        "def pca_transform(n_comp,data):\n",
        "    pca = PCA(n_components=n_comp, random_state=123)\n",
        "    dataReduced = pca.fit_transform(data)\n",
        "    print('Shape of the new Data df: ' + str(dataReduced.shape))\n",
        "    return dataReduced"
      ],
      "metadata": {
        "id": "klfJFPMSArqR"
      },
      "execution_count": 102,
      "outputs": []
    },
    {
      "cell_type": "code",
      "source": [
        "X_train_pca = pca_transform(n_comp=2, data=X_train)\n",
        "findDBSCANOptimalEpsilon(X_train_pca,4)"
      ],
      "metadata": {
        "colab": {
          "base_uri": "https://localhost:8080/",
          "height": 1000
        },
        "id": "mrhX040CZxn_",
        "outputId": "d9412626-9be8-46e1-fc5b-71e990dadbcb"
      },
      "execution_count": 212,
      "outputs": [
        {
          "output_type": "stream",
          "name": "stdout",
          "text": [
            "Shape of the new Data df: (7352, 2)\n"
          ]
        },
        {
          "output_type": "display_data",
          "data": {
            "image/png": "[encoded data removed]",
            "text/plain": [
              "<Figure size 1440x1440 with 1 Axes>"
            ]
          },
          "metadata": {
            "needs_background": "light"
          }
        }
      ]
    },
    {
      "cell_type": "code",
      "source": [
        "cluster_labels_pca = getDbscan(2, 6, X_train_pca)\n",
        "evaluation_metrics = get_dbscan_metrics(y_train_binary,cluster_labels_pca)\n",
        "print(print_metrics('PCA',evaluation_metrics ))\n",
        "\n",
        "fig, ax = plt.subplots()\n",
        "plot_dbscan_cluster(ax,\"PCA\", X_train_pca, cluster_labels_pca)"
      ],
      "metadata": {
        "colab": {
          "base_uri": "https://localhost:8080/",
          "height": 328
        },
        "id": "UKUDxapeA1b6",
        "outputId": "066d6dcc-d2aa-4de6-f3c4-e92e6deb5a32"
      },
      "execution_count": 238,
      "outputs": [
        {
          "output_type": "stream",
          "name": "stdout",
          "text": [
            "+------+-------------+------+-------+--------+------+------+\n",
            "| name | no_clusters | homo | compl | v-meas | ARI  | AMI  |\n",
            "+------+-------------+------+-------+--------+------+------+\n",
            "| PCA  |     2.00    | 0.98 |  0.92 |  0.95  | 0.98 | 0.95 |\n",
            "+------+-------------+------+-------+--------+------+------+\n"
          ]
        },
        {
          "output_type": "display_data",
          "data": {
            "image/png": "[encoded data removed]",
            "text/plain": [
              "<Figure size 360x216 with 1 Axes>"
            ]
          },
          "metadata": {
            "needs_background": "light"
          }
        }
      ]
    },
    {
      "cell_type": "markdown",
      "source": [
        "# Evaluation \n",
        "\n",
        "\n"
      ],
      "metadata": {
        "id": "WhX6mun4HHO3"
      }
    },
    {
      "cell_type": "markdown",
      "source": [
        "Computer efficieny methods"
      ],
      "metadata": {
        "id": "XZFsvpuTHNCY"
      }
    },
    {
      "cell_type": "code",
      "source": [
        "# The first function is to stop the tracing, if any, and to start the fresh tracing. \n",
        "# This ensures that the tracing of 2 code blocks doesn’t interfere with each other. \n",
        "def tracing_start():\n",
        "    tracemalloc.stop()\n",
        "    print(\"nTracing Status : \", tracemalloc.is_tracing())\n",
        "    tracemalloc.start()\n",
        "    print(\"Tracing Status : \", tracemalloc.is_tracing())\n",
        "\n",
        "# The second function is to find the peak size in MB of a block of code that was traced.\n",
        "def tracing_mem():\n",
        "    first_size, first_peak = tracemalloc.get_traced_memory()\n",
        "    peak = first_peak/(1024*1024)\n",
        "    print(\"peak in MB:  \" + str(peak))\n",
        "    return peak"
      ],
      "metadata": {
        "id": "nQLMrDJg-iMW"
      },
      "execution_count": 86,
      "outputs": []
    },
    {
      "cell_type": "code",
      "source": [
        "# PCA\n",
        "tracing_start()\n",
        "start = time.time()\n",
        "cluster_labels_pca = getDbscan(2, 4, X_train_pca)\n",
        "evaluation_metrics_pca = get_dbscan_metrics(y_train,cluster_labels)\n",
        "end = time.time()\n",
        "pca_time = (end-start)*1000\n",
        "print(\"time elapsed PCA {} milli seconds\".format(pca_time))\n",
        "pca_peak = tracing_mem()\n",
        "\n",
        "# normal\n",
        "tracing_start()\n",
        "start = time.time()\n",
        "cluster_labels_normal = getDbscan(2, 4, X_train)\n",
        "evaluation_metrics_normal = get_dbscan_metrics(y_train,cluster_labels)\n",
        "end = time.time()\n",
        "normal_time = (end-start)*1000\n",
        "print(\"time elapsed normal {} milli seconds\".format(normal_time))\n",
        "normal_peak = tracing_mem()"
      ],
      "metadata": {
        "colab": {
          "base_uri": "https://localhost:8080/"
        },
        "id": "N62YtJ0u-omC",
        "outputId": "a28d1952-aa06-4349-a575-d0bd05ec0c92"
      },
      "execution_count": 281,
      "outputs": [
        {
          "output_type": "stream",
          "name": "stdout",
          "text": [
            "nTracing Status :  False\n",
            "Tracing Status :  True\n",
            "time elapsed PCA 614.2058372497559 milli seconds\n",
            "peak in MB:  2.0157012939453125\n",
            "nTracing Status :  False\n",
            "Tracing Status :  True\n",
            "time elapsed normal 4430.8648109436035 milli seconds\n",
            "peak in MB:  414.1882162094116\n"
          ]
        }
      ]
    },
    {
      "cell_type": "code",
      "source": [
        "# Plot time\n",
        "fig = plt.figure()\n",
        "ax = fig.add_axes([0,0,1,1])\n",
        "labels = ['PCA','NON-PCA']\n",
        "times_miliseconds = [pca_time,normal_time]\n",
        "ax.bar(labels,times_miliseconds)\n",
        "plt.title(\"Time PCA vs Non-PCA\")\n",
        "plt.show()\n",
        "\n",
        "# Plot speed\n",
        "fig = plt.figure()\n",
        "ax = fig.add_axes([0,0,1,1])\n",
        "labels = ['PCA','NON-PCA']\n",
        "peak_MB = [pca_peak,normal_peak]\n",
        "ax.bar(labels,peak_MB)\n",
        "plt.title(\"Speed PCA vs Non-PCA\")\n",
        "plt.show()"
      ],
      "metadata": {
        "colab": {
          "base_uri": "https://localhost:8080/",
          "height": 543
        },
        "id": "QWweyre7DTbd",
        "outputId": "ba7c1f86-c571-4f40-de74-3a05ba848f46"
      },
      "execution_count": 282,
      "outputs": [
        {
          "output_type": "display_data",
          "data": {
            "image/png": "[encoded data removed]",
            "text/plain": [
              "<Figure size 360x216 with 1 Axes>"
            ]
          },
          "metadata": {
            "needs_background": "light"
          }
        },
        {
          "output_type": "display_data",
          "data": {
            "image/png": "[encoded data removed]",
            "text/plain": [
              "<Figure size 360x216 with 1 Axes>"
            ]
          },
          "metadata": {
            "needs_background": "light"
          }
        }
      ]
    },
    {
      "cell_type": "markdown",
      "source": [
        "Evaluation Clustering metrics"
      ],
      "metadata": {
        "id": "fyXp3vmLpuqT"
      }
    },
    {
      "cell_type": "code",
      "source": [
        "t = print_metrics('normal',evaluation_metrics_normal)\n",
        "evaluation_metrics_pca.insert(0,\"pca\")\n",
        "t.add_row(evaluation_metrics_pca)\n",
        "print(t)\n",
        "\n",
        "print(\"type pca :\" + str(type(X_train_pca)))\n",
        "print(\"type nrom :\" + str(type(X_train)))\n",
        "\n",
        "# both use pca for visual comparison\n",
        "fig, (ax1, ax2) = plt.subplots(1, 2,figsize=(20,6))\n",
        "fig.suptitle('Comparison of Clustering')\n",
        "plot_dbscan_cluster(ax1,\"PCA\", X_train_pca, cluster_labels_pca)\n",
        "plot_dbscan_cluster(ax2,\"Normal\", X_train_pca, cluster_labels_normal)"
      ],
      "metadata": {
        "id": "pGOS9ACrpt5P",
        "colab": {
          "base_uri": "https://localhost:8080/",
          "height": 570
        },
        "outputId": "d11d8309-b2d9-4026-d133-243cc496fd07"
      },
      "execution_count": 283,
      "outputs": [
        {
          "output_type": "stream",
          "name": "stdout",
          "text": [
            "+--------+-------------+---------------------+---------------------+--------------------+----------------------+---------------------+\n",
            "|  name  | no_clusters |         homo        |        compl        |       v-meas       |         ARI          |         AMI         |\n",
            "+--------+-------------+---------------------+---------------------+--------------------+----------------------+---------------------+\n",
            "| normal |     3.00    |         0.12        |         0.37        |        0.18        |         0.02         |         0.18        |\n",
            "|  pca   |      3      | 0.11920814526311838 | 0.37420878029737803 | 0.1808155834530846 | 0.022179667515424648 | 0.18009961531835847 |\n",
            "+--------+-------------+---------------------+---------------------+--------------------+----------------------+---------------------+\n",
            "type pca :<class 'numpy.ndarray'>\n",
            "type nrom :<class 'pandas.core.frame.DataFrame'>\n"
          ]
        },
        {
          "output_type": "display_data",
          "data": {
            "image/png": "[encoded data removed]",
            "text/plain": [
              "<Figure size 1440x432 with 2 Axes>"
            ]
          },
          "metadata": {
            "needs_background": "light"
          }
        }
      ]
    }
  ],
  "metadata": {
    "kernelspec": {
      "display_name": "Python 3",
      "language": "python",
      "name": "python3"
    },
    "language_info": {
      "codemirror_mode": {
        "name": "ipython",
        "version": 3
      },
      "file_extension": ".py",
      "mimetype": "text/x-python",
      "name": "python",
      "nbconvert_exporter": "python",
      "pygments_lexer": "ipython3",
      "version": "3.7.6"
    },
    "colab": {
      "name": "Assignment3HumanActivityRecognition.ipynb",
      "provenance": [],
      "collapsed_sections": [
        "6F_KrGwiz1W-",
        "BsVNI-UxYStE",
        "a0jKBoulz8bD"
      ],
      "include_colab_link": true
    }
  },
  "nbformat": 4,
  "nbformat_minor": 0
}