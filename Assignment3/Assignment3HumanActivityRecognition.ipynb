{
  "cells": [
    {
      "cell_type": "markdown",
      "metadata": {
        "id": "view-in-github",
        "colab_type": "text"
      },
      "source": [
        "<a href=\"https://colab.research.google.com/github/claredavies/MachineLearningCoursework/blob/main/Assignment3/Assignment3HumanActivityRecognition.ipynb\" target=\"_parent\"><img src=\"https://colab.research.google.com/assets/colab-badge.svg\" alt=\"Open In Colab\"/></a>"
      ]
    },
    {
      "cell_type": "markdown",
      "metadata": {
        "id": "Y40F4EVsSxu8"
      },
      "source": [
        "<html><h1><center style=\"color:blue\">Human Activity Recognition with Smartphones</center></h1></html>"
      ]
    },
    {
      "cell_type": "markdown",
      "source": [
        "# Load in Libraries"
      ],
      "metadata": {
        "id": "lckrlG-xzuk2"
      }
    },
    {
      "cell_type": "code",
      "source": [
        "import matplotlib as mlt\n",
        "import matplotlib.pyplot as plt\n",
        "import seaborn as sns\n",
        "import numpy as np\n",
        "import pandas as pd\n",
        "from sklearn.cluster import DBSCAN\n",
        "from sklearn.ensemble import RandomForestClassifier\n",
        "from sklearn.neighbors import NearestNeighbors\n",
        "from sklearn import metrics\n",
        "from sklearn.preprocessing import StandardScaler\n",
        "from sklearn import metrics\n",
        "from sklearn.decomposition import PCA\n",
        "from sklearn.manifold import TSNE\n",
        "from matplotlib.colors import rgb2hex\n",
        "from matplotlib.cm import get_cmap\n",
        "\n",
        "!python -m pip install 'fsspec>=0.3.3'\n",
        "import tracemalloc\n",
        "import pandas as pd\n",
        "import dask.dataframe as dd\n",
        "import time\n",
        "\n",
        "from IPython.display import display\n",
        "from mpl_toolkits.mplot3d import Axes3D\n",
        "from sklearn.metrics import homogeneity_score, completeness_score, \\\n",
        "v_measure_score, adjusted_rand_score, adjusted_mutual_info_score, silhouette_score\n",
        "%matplotlib inline\n",
        "\n",
        "pd.set_option('display.max_rows', None)"
      ],
      "metadata": {
        "id": "PjFiEFX9U7iK",
        "colab": {
          "base_uri": "https://localhost:8080/"
        },
        "outputId": "3644b482-207b-4b90-ad74-eebb90134747"
      },
      "execution_count": 1,
      "outputs": [
        {
          "output_type": "stream",
          "name": "stdout",
          "text": [
            "Collecting fsspec>=0.3.3\n",
            "  Downloading fsspec-2022.2.0-py3-none-any.whl (134 kB)\n",
            "\u001b[?25l\r\u001b[K     |██▍                             | 10 kB 20.9 MB/s eta 0:00:01\r\u001b[K     |████▉                           | 20 kB 13.7 MB/s eta 0:00:01\r\u001b[K     |███████▎                        | 30 kB 9.7 MB/s eta 0:00:01\r\u001b[K     |█████████▊                      | 40 kB 8.4 MB/s eta 0:00:01\r\u001b[K     |████████████▏                   | 51 kB 4.9 MB/s eta 0:00:01\r\u001b[K     |██████████████▋                 | 61 kB 5.8 MB/s eta 0:00:01\r\u001b[K     |█████████████████               | 71 kB 5.7 MB/s eta 0:00:01\r\u001b[K     |███████████████████▍            | 81 kB 5.5 MB/s eta 0:00:01\r\u001b[K     |█████████████████████▉          | 92 kB 6.1 MB/s eta 0:00:01\r\u001b[K     |████████████████████████▎       | 102 kB 5.5 MB/s eta 0:00:01\r\u001b[K     |██████████████████████████▊     | 112 kB 5.5 MB/s eta 0:00:01\r\u001b[K     |█████████████████████████████▏  | 122 kB 5.5 MB/s eta 0:00:01\r\u001b[K     |███████████████████████████████▋| 133 kB 5.5 MB/s eta 0:00:01\r\u001b[K     |████████████████████████████████| 134 kB 5.5 MB/s \n",
            "\u001b[?25hInstalling collected packages: fsspec\n",
            "Successfully installed fsspec-2022.2.0\n"
          ]
        }
      ]
    },
    {
      "cell_type": "markdown",
      "source": [
        "# Read in Files"
      ],
      "metadata": {
        "id": "6F_KrGwiz1W-"
      }
    },
    {
      "cell_type": "markdown",
      "source": [
        "Upload zip UCI HAR Dataset.zip"
      ],
      "metadata": {
        "id": "7RNdwjZ5Tl02"
      }
    },
    {
      "cell_type": "code",
      "source": [
        "!unzip \"UCI HAR Dataset.zip\""
      ],
      "metadata": {
        "colab": {
          "base_uri": "https://localhost:8080/"
        },
        "id": "aWNrKJHkVF5e",
        "outputId": "e63cf979-9310-45f6-fcfa-ec38ba84004b"
      },
      "execution_count": 2,
      "outputs": [
        {
          "output_type": "stream",
          "name": "stdout",
          "text": [
            "Archive:  UCI HAR Dataset.zip\n",
            "   creating: UCI HAR Dataset/\n",
            "  inflating: UCI HAR Dataset/.DS_Store  \n",
            "   creating: __MACOSX/\n",
            "   creating: __MACOSX/UCI HAR Dataset/\n",
            "  inflating: __MACOSX/UCI HAR Dataset/._.DS_Store  \n",
            "  inflating: UCI HAR Dataset/activity_labels.txt  \n",
            "  inflating: __MACOSX/UCI HAR Dataset/._activity_labels.txt  \n",
            "  inflating: UCI HAR Dataset/features.txt  \n",
            "  inflating: __MACOSX/UCI HAR Dataset/._features.txt  \n",
            "  inflating: UCI HAR Dataset/features_info.txt  \n",
            "  inflating: __MACOSX/UCI HAR Dataset/._features_info.txt  \n",
            "  inflating: UCI HAR Dataset/README.txt  \n",
            "  inflating: __MACOSX/UCI HAR Dataset/._README.txt  \n",
            "   creating: UCI HAR Dataset/test/\n",
            "   creating: UCI HAR Dataset/test/Inertial Signals/\n",
            "  inflating: UCI HAR Dataset/test/Inertial Signals/body_acc_x_test.txt  \n",
            "   creating: __MACOSX/UCI HAR Dataset/test/\n",
            "   creating: __MACOSX/UCI HAR Dataset/test/Inertial Signals/\n",
            "  inflating: __MACOSX/UCI HAR Dataset/test/Inertial Signals/._body_acc_x_test.txt  \n",
            "  inflating: UCI HAR Dataset/test/Inertial Signals/body_acc_y_test.txt  \n",
            "  inflating: __MACOSX/UCI HAR Dataset/test/Inertial Signals/._body_acc_y_test.txt  \n",
            "  inflating: UCI HAR Dataset/test/Inertial Signals/body_acc_z_test.txt  \n",
            "  inflating: __MACOSX/UCI HAR Dataset/test/Inertial Signals/._body_acc_z_test.txt  \n",
            "  inflating: UCI HAR Dataset/test/Inertial Signals/body_gyro_x_test.txt  \n",
            "  inflating: __MACOSX/UCI HAR Dataset/test/Inertial Signals/._body_gyro_x_test.txt  \n",
            "  inflating: UCI HAR Dataset/test/Inertial Signals/body_gyro_y_test.txt  \n",
            "  inflating: __MACOSX/UCI HAR Dataset/test/Inertial Signals/._body_gyro_y_test.txt  \n",
            "  inflating: UCI HAR Dataset/test/Inertial Signals/body_gyro_z_test.txt  \n",
            "  inflating: __MACOSX/UCI HAR Dataset/test/Inertial Signals/._body_gyro_z_test.txt  \n",
            "  inflating: UCI HAR Dataset/test/Inertial Signals/total_acc_x_test.txt  \n",
            "  inflating: __MACOSX/UCI HAR Dataset/test/Inertial Signals/._total_acc_x_test.txt  \n",
            "  inflating: UCI HAR Dataset/test/Inertial Signals/total_acc_y_test.txt  \n",
            "  inflating: __MACOSX/UCI HAR Dataset/test/Inertial Signals/._total_acc_y_test.txt  \n",
            "  inflating: UCI HAR Dataset/test/Inertial Signals/total_acc_z_test.txt  \n",
            "  inflating: __MACOSX/UCI HAR Dataset/test/Inertial Signals/._total_acc_z_test.txt  \n",
            "  inflating: __MACOSX/UCI HAR Dataset/test/._Inertial Signals  \n",
            "  inflating: UCI HAR Dataset/test/subject_test.txt  \n",
            "  inflating: __MACOSX/UCI HAR Dataset/test/._subject_test.txt  \n",
            "  inflating: UCI HAR Dataset/test/X_test.txt  \n",
            "  inflating: __MACOSX/UCI HAR Dataset/test/._X_test.txt  \n",
            "  inflating: UCI HAR Dataset/test/y_test.txt  \n",
            "  inflating: __MACOSX/UCI HAR Dataset/test/._y_test.txt  \n",
            "  inflating: __MACOSX/UCI HAR Dataset/._test  \n",
            "   creating: UCI HAR Dataset/train/\n",
            "   creating: UCI HAR Dataset/train/Inertial Signals/\n",
            "  inflating: UCI HAR Dataset/train/Inertial Signals/body_acc_x_train.txt  \n",
            "   creating: __MACOSX/UCI HAR Dataset/train/\n",
            "   creating: __MACOSX/UCI HAR Dataset/train/Inertial Signals/\n",
            "  inflating: __MACOSX/UCI HAR Dataset/train/Inertial Signals/._body_acc_x_train.txt  \n",
            "  inflating: UCI HAR Dataset/train/Inertial Signals/body_acc_y_train.txt  \n",
            "  inflating: __MACOSX/UCI HAR Dataset/train/Inertial Signals/._body_acc_y_train.txt  \n",
            "  inflating: UCI HAR Dataset/train/Inertial Signals/body_acc_z_train.txt  \n",
            "  inflating: __MACOSX/UCI HAR Dataset/train/Inertial Signals/._body_acc_z_train.txt  \n",
            "  inflating: UCI HAR Dataset/train/Inertial Signals/body_gyro_x_train.txt  \n",
            "  inflating: __MACOSX/UCI HAR Dataset/train/Inertial Signals/._body_gyro_x_train.txt  \n",
            "  inflating: UCI HAR Dataset/train/Inertial Signals/body_gyro_y_train.txt  \n",
            "  inflating: __MACOSX/UCI HAR Dataset/train/Inertial Signals/._body_gyro_y_train.txt  \n",
            "  inflating: UCI HAR Dataset/train/Inertial Signals/body_gyro_z_train.txt  \n",
            "  inflating: __MACOSX/UCI HAR Dataset/train/Inertial Signals/._body_gyro_z_train.txt  \n",
            "  inflating: UCI HAR Dataset/train/Inertial Signals/total_acc_x_train.txt  \n",
            "  inflating: __MACOSX/UCI HAR Dataset/train/Inertial Signals/._total_acc_x_train.txt  \n",
            "  inflating: UCI HAR Dataset/train/Inertial Signals/total_acc_y_train.txt  \n",
            "  inflating: __MACOSX/UCI HAR Dataset/train/Inertial Signals/._total_acc_y_train.txt  \n",
            "  inflating: UCI HAR Dataset/train/Inertial Signals/total_acc_z_train.txt  \n",
            "  inflating: __MACOSX/UCI HAR Dataset/train/Inertial Signals/._total_acc_z_train.txt  \n",
            "  inflating: __MACOSX/UCI HAR Dataset/train/._Inertial Signals  \n",
            "  inflating: UCI HAR Dataset/train/subject_train.txt  \n",
            "  inflating: __MACOSX/UCI HAR Dataset/train/._subject_train.txt  \n",
            "  inflating: UCI HAR Dataset/train/X_train.txt  \n",
            "  inflating: __MACOSX/UCI HAR Dataset/train/._X_train.txt  \n",
            "  inflating: UCI HAR Dataset/train/y_train.txt  \n",
            "  inflating: __MACOSX/UCI HAR Dataset/train/._y_train.txt  \n",
            "  inflating: __MACOSX/UCI HAR Dataset/._train  \n",
            "  inflating: __MACOSX/._UCI HAR Dataset  \n"
          ]
        }
      ]
    },
    {
      "cell_type": "code",
      "execution_count": 3,
      "metadata": {
        "colab": {
          "base_uri": "https://localhost:8080/"
        },
        "id": "VNwZzSpHSxvE",
        "outputId": "92e510c1-3d0c-4085-cc28-937dd8787062"
      },
      "outputs": [
        {
          "output_type": "stream",
          "name": "stdout",
          "text": [
            "No of Features: 561\n"
          ]
        }
      ],
      "source": [
        "# get the features from the file features.txt\n",
        "features = list()\n",
        "with open('UCI HAR Dataset/features.txt') as f:\n",
        "    features = [line.split()[1] for line in f.readlines()]\n",
        "print('No of Features: {}'.format(len(features)))"
      ]
    },
    {
      "cell_type": "code",
      "source": [
        "# get the features from the file features.txt\n",
        "features = list()\n",
        "with open('UCI HAR Dataset/features.txt') as f:\n",
        "    features = [line.split()[1] for line in f.readlines()]\n",
        "print('No of Features: {}'.format(len(features)))\n",
        "\n",
        "# get the data from txt files to pandas dataffame\n",
        "X_train = pd.read_csv('UCI HAR Dataset/train/X_train.txt', delim_whitespace=True, header=None)\n",
        "X_train.columns = [features]\n",
        "# add subject column to the dataframe\n",
        "X_train['subject'] = pd.read_csv('UCI HAR Dataset/train/subject_train.txt', header=None, squeeze=True)\n",
        "\n",
        "y_train = pd.read_csv('UCI HAR Dataset/train/y_train.txt', names=['Activity'], squeeze=True)\n",
        "y_train_labels = y_train.map({1: 'WALKING', 2:'WALKING_UPSTAIRS',3:'WALKING_DOWNSTAIRS',\\\n",
        "                       4:'SITTING', 5:'STANDING',6:'LAYING'})\n",
        "\n",
        "# put all columns in a single dataframe\n",
        "train = X_train\n",
        "train['Activity'] = y_train\n",
        "train['ActivityName'] = y_train_labels"
      ],
      "metadata": {
        "colab": {
          "base_uri": "https://localhost:8080/"
        },
        "id": "55WpLpuXzWw-",
        "outputId": "26fdc86e-73fe-4530-a556-a137ffb48e27"
      },
      "execution_count": 331,
      "outputs": [
        {
          "output_type": "stream",
          "name": "stdout",
          "text": [
            "No of Features: 561\n"
          ]
        }
      ]
    },
    {
      "cell_type": "code",
      "source": [
        "print('Shape of the data set: ' + str(train.shape))"
      ],
      "metadata": {
        "colab": {
          "base_uri": "https://localhost:8080/"
        },
        "id": "SgMgdpuizhns",
        "outputId": "5bc9e01d-ecaa-4492-9fe1-d197a250c62f"
      },
      "execution_count": 332,
      "outputs": [
        {
          "output_type": "stream",
          "name": "stdout",
          "text": [
            "Shape of the data set: (7352, 564)\n"
          ]
        }
      ]
    },
    {
      "cell_type": "markdown",
      "source": [
        "# Data Exploration"
      ],
      "metadata": {
        "id": "BsVNI-UxYStE"
      }
    },
    {
      "cell_type": "markdown",
      "metadata": {
        "id": "NP2WlyLNSxvM"
      },
      "source": [
        "### 1. Check for Duplicates"
      ]
    },
    {
      "cell_type": "code",
      "execution_count": 333,
      "metadata": {
        "colab": {
          "base_uri": "https://localhost:8080/"
        },
        "id": "pnH4Hr73SxvN",
        "outputId": "749b51bb-7a37-42d8-fd71-49d1e76ea357"
      },
      "outputs": [
        {
          "output_type": "stream",
          "name": "stderr",
          "text": [
            "/usr/local/lib/python3.7/dist-packages/ipykernel/ipkernel.py:208: PerformanceWarning: indexing past lexsort depth may impact performance.\n",
            "  res = shell.run_cell(code, store_history=store_history, silent=silent)\n"
          ]
        },
        {
          "output_type": "stream",
          "name": "stdout",
          "text": [
            "No of duplicates in train: 0\n"
          ]
        }
      ],
      "source": [
        "print('No of duplicates in train: {}'.format(sum(train.duplicated())))"
      ]
    },
    {
      "cell_type": "markdown",
      "metadata": {
        "id": "D10ZctbFSxvO"
      },
      "source": [
        "### 2. Checking for NaN/null values"
      ]
    },
    {
      "cell_type": "code",
      "execution_count": 334,
      "metadata": {
        "colab": {
          "base_uri": "https://localhost:8080/"
        },
        "id": "Vh4-b7idSxvO",
        "outputId": "6475187c-9069-4bfe-9903-53da342c317b"
      },
      "outputs": [
        {
          "output_type": "stream",
          "name": "stdout",
          "text": [
            "We have 0 NaN/Null values in train\n"
          ]
        }
      ],
      "source": [
        "print('We have {} NaN/Null values in train'.format(train.isnull().values.sum()))"
      ]
    },
    {
      "cell_type": "code",
      "source": [
        "train.to_csv('train.csv', index=False)\n",
        "train = pd.read_csv('train.csv')"
      ],
      "metadata": {
        "id": "Z6CzAC4LTZEP"
      },
      "execution_count": 335,
      "outputs": []
    },
    {
      "cell_type": "code",
      "source": [
        "columns = train.columns\n",
        "\n",
        "# Removing '()' from column names\n",
        "columns = columns.str.replace('[()]','')\n",
        "columns = columns.str.replace('[-]', '')\n",
        "columns = columns.str.replace('[,]','')\n",
        "\n",
        "train.columns = columns"
      ],
      "metadata": {
        "colab": {
          "base_uri": "https://localhost:8080/"
        },
        "id": "eedPhK8iUnkx",
        "outputId": "2f6970ef-6834-4d23-964f-eeceb2a06cde"
      },
      "execution_count": 336,
      "outputs": [
        {
          "output_type": "stream",
          "name": "stderr",
          "text": [
            "/usr/local/lib/python3.7/dist-packages/ipykernel_launcher.py:4: FutureWarning: The default value of regex will change from True to False in a future version.\n",
            "  after removing the cwd from sys.path.\n",
            "/usr/local/lib/python3.7/dist-packages/ipykernel_launcher.py:5: FutureWarning: The default value of regex will change from True to False in a future version.\n",
            "  \"\"\"\n",
            "/usr/local/lib/python3.7/dist-packages/ipykernel_launcher.py:6: FutureWarning: The default value of regex will change from True to False in a future version.\n",
            "  \n"
          ]
        }
      ]
    },
    {
      "cell_type": "markdown",
      "source": [
        "Activity per Subject"
      ],
      "metadata": {
        "id": "M_aAT-_tVTXo"
      }
    },
    {
      "cell_type": "code",
      "source": [
        "plt.figure(figsize=(16,8))\n",
        "plt.title('Data provided by each user', fontsize=20)\n",
        "sns.countplot(x='subject',hue='ActivityName', data = train)\n",
        "plt.show()"
      ],
      "metadata": {
        "colab": {
          "base_uri": "https://localhost:8080/",
          "height": 0
        },
        "id": "7Y-JCMo3Ut0i",
        "outputId": "c2a1565c-6b7b-4068-cfeb-6294ca8c375b"
      },
      "execution_count": 337,
      "outputs": [
        {
          "output_type": "display_data",
          "data": {
            "image/png": "[encoded data removed]",
            "text/plain": [
              "<Figure size 1152x576 with 1 Axes>"
            ]
          },
          "metadata": {
            "needs_background": "light"
          }
        }
      ]
    },
    {
      "cell_type": "markdown",
      "source": [
        "Activity Count"
      ],
      "metadata": {
        "id": "dO0vJDvoWySy"
      }
    },
    {
      "cell_type": "code",
      "source": [
        "sns.countplot(x ='ActivityName', data = train)\n",
        "plt.xticks(rotation=90)\n",
        "plt.title(\"Count per Activity\")"
      ],
      "metadata": {
        "colab": {
          "base_uri": "https://localhost:8080/",
          "height": 0
        },
        "id": "eBiQAZC7Vb-X",
        "outputId": "c0288751-034f-443d-c64e-c1006154e9a0"
      },
      "execution_count": 338,
      "outputs": [
        {
          "output_type": "execute_result",
          "data": {
            "text/plain": [
              "Text(0.5, 1.0, 'Count per Activity')"
            ]
          },
          "metadata": {},
          "execution_count": 338
        },
        {
          "output_type": "display_data",
          "data": {
            "image/png": "[encoded data removed]",
            "text/plain": [
              "<Figure size 432x288 with 1 Axes>"
            ]
          },
          "metadata": {
            "needs_background": "light"
          }
        }
      ]
    },
    {
      "cell_type": "markdown",
      "source": [
        "Moving vs Stationary Activities"
      ],
      "metadata": {
        "id": "mUMlw3XpYHrk"
      }
    },
    {
      "cell_type": "code",
      "source": [
        "# for plotting purposes taking datapoints of each activity to a different dataframe\n",
        "df1 = train[train['Activity']==1]\n",
        "df2 = train[train['Activity']==2]\n",
        "df3 = train[train['Activity']==3]\n",
        "df4 = train[train['Activity']==4]\n",
        "df5 = train[train['Activity']==5]\n",
        "df6 = train[train['Activity']==6]\n",
        "\n",
        "plt.figure(figsize=(14,7))\n",
        "plt.subplot(2,2,1)\n",
        "plt.title('Stationary Activities(Zoomed in)')\n",
        "sns.distplot(df4['tBodyAccMagmean'],color = 'r',hist = False, label = 'Sitting')\n",
        "sns.distplot(df5['tBodyAccMagmean'],color = 'm',hist = False,label = 'Standing')\n",
        "sns.distplot(df6['tBodyAccMagmean'],color = 'c',hist = False, label = 'Laying')\n",
        "plt.axis([-1.08, -0.2, 0.1, 20])\n",
        "plt.legend(loc='center')\n",
        "\n",
        "plt.subplot(2,2,2)\n",
        "plt.title('Moving Activities')\n",
        "sns.distplot(df1['tBodyAccMagmean'],color = 'red',hist = False, label = 'Walking')\n",
        "sns.distplot(df2['tBodyAccMagmean'],color = 'blue',hist = False,label = 'Walking Up')\n",
        "sns.distplot(df3['tBodyAccMagmean'],color = 'green',hist = False, label = 'Walking down')\n",
        "plt.legend(loc='center right')\n",
        "\n",
        "\n",
        "plt.tight_layout()\n",
        "plt.show()"
      ],
      "metadata": {
        "colab": {
          "base_uri": "https://localhost:8080/",
          "height": 0
        },
        "id": "A0Wtz1WZXogl",
        "outputId": "2edf0080-9ed0-4adf-bba3-f8035ddc9cf8"
      },
      "execution_count": 339,
      "outputs": [
        {
          "output_type": "stream",
          "name": "stderr",
          "text": [
            "/usr/local/lib/python3.7/dist-packages/seaborn/distributions.py:2619: FutureWarning: `distplot` is a deprecated function and will be removed in a future version. Please adapt your code to use either `displot` (a figure-level function with similar flexibility) or `kdeplot` (an axes-level function for kernel density plots).\n",
            "  warnings.warn(msg, FutureWarning)\n",
            "/usr/local/lib/python3.7/dist-packages/seaborn/distributions.py:2619: FutureWarning: `distplot` is a deprecated function and will be removed in a future version. Please adapt your code to use either `displot` (a figure-level function with similar flexibility) or `kdeplot` (an axes-level function for kernel density plots).\n",
            "  warnings.warn(msg, FutureWarning)\n",
            "/usr/local/lib/python3.7/dist-packages/seaborn/distributions.py:2619: FutureWarning: `distplot` is a deprecated function and will be removed in a future version. Please adapt your code to use either `displot` (a figure-level function with similar flexibility) or `kdeplot` (an axes-level function for kernel density plots).\n",
            "  warnings.warn(msg, FutureWarning)\n",
            "/usr/local/lib/python3.7/dist-packages/seaborn/distributions.py:2619: FutureWarning: `distplot` is a deprecated function and will be removed in a future version. Please adapt your code to use either `displot` (a figure-level function with similar flexibility) or `kdeplot` (an axes-level function for kernel density plots).\n",
            "  warnings.warn(msg, FutureWarning)\n",
            "/usr/local/lib/python3.7/dist-packages/seaborn/distributions.py:2619: FutureWarning: `distplot` is a deprecated function and will be removed in a future version. Please adapt your code to use either `displot` (a figure-level function with similar flexibility) or `kdeplot` (an axes-level function for kernel density plots).\n",
            "  warnings.warn(msg, FutureWarning)\n",
            "/usr/local/lib/python3.7/dist-packages/seaborn/distributions.py:2619: FutureWarning: `distplot` is a deprecated function and will be removed in a future version. Please adapt your code to use either `displot` (a figure-level function with similar flexibility) or `kdeplot` (an axes-level function for kernel density plots).\n",
            "  warnings.warn(msg, FutureWarning)\n"
          ]
        },
        {
          "output_type": "display_data",
          "data": {
            "image/png": "[encoded data removed]",
            "text/plain": [
              "<Figure size 1008x504 with 2 Axes>"
            ]
          },
          "metadata": {
            "needs_background": "light"
          }
        }
      ]
    },
    {
      "cell_type": "markdown",
      "source": [
        "# Feature Selection"
      ],
      "metadata": {
        "id": "y8Fx47hb1IL7"
      }
    },
    {
      "cell_type": "code",
      "source": [
        "print(train.shape)"
      ],
      "metadata": {
        "colab": {
          "base_uri": "https://localhost:8080/"
        },
        "id": "GnXsWO7z3QhW",
        "outputId": "a695f999-f310-4920-c983-3c04a5d00900"
      },
      "execution_count": 353,
      "outputs": [
        {
          "output_type": "stream",
          "name": "stdout",
          "text": [
            "(7352, 564)\n"
          ]
        }
      ]
    },
    {
      "cell_type": "code",
      "source": [
        "n = 4000\n",
        "train_subset = train.iloc[:n]"
      ],
      "metadata": {
        "id": "WnAxg91XoSiu"
      },
      "execution_count": 430,
      "outputs": []
    },
    {
      "cell_type": "code",
      "source": [
        "features = train_subset.drop(['subject','ActivityName'], axis=1)"
      ],
      "metadata": {
        "id": "Bj0ksAVItGjD"
      },
      "execution_count": 431,
      "outputs": []
    },
    {
      "cell_type": "code",
      "source": [
        "from sklearn.feature_selection import SelectKBest, f_regression\n",
        "def select_k_best(train_data,k):\n",
        "  train_data = train_data.apply(pd.to_numeric).astype('float32')\n",
        "\n",
        "  kb = SelectKBest(score_func=f_regression, k=k)\n",
        "  kb.fit(train_data.loc[:, train_data.columns != 'Activity'], train_data.Activity)\n",
        "  indices = np.argsort(kb.scores_)[::-1]\n",
        "  selected_features = []\n",
        "  for i in range(k):\n",
        "    selected_features.append(train_data.columns[indices[i]])\n",
        "  return selected_features"
      ],
      "metadata": {
        "id": "wW02AOwTsjVO"
      },
      "execution_count": 432,
      "outputs": []
    },
    {
      "cell_type": "code",
      "source": [
        "k_no_features = 200\n",
        "selected_features_k_best = select_k_best(features,k_no_features)"
      ],
      "metadata": {
        "id": "PNr39mkes-pO"
      },
      "execution_count": 458,
      "outputs": []
    },
    {
      "cell_type": "code",
      "source": [
        "features_names_df = pd.DataFrame(list(features.columns),columns =['featureNames'])"
      ],
      "metadata": {
        "id": "KAc4WZ19ug1d"
      },
      "execution_count": 459,
      "outputs": []
    },
    {
      "cell_type": "code",
      "source": [
        "print(features_names_df.head())"
      ],
      "metadata": {
        "colab": {
          "base_uri": "https://localhost:8080/"
        },
        "id": "Cj0QVXE4u7gV",
        "outputId": "b4db869e-350a-499f-a8e5-1db6f5953b35"
      },
      "execution_count": 359,
      "outputs": [
        {
          "output_type": "stream",
          "name": "stdout",
          "text": [
            "    featureNames\n",
            "0  tBodyAccmeanX\n",
            "1  tBodyAccmeanY\n",
            "2  tBodyAccmeanZ\n",
            "3   tBodyAccstdX\n",
            "4   tBodyAccstdY\n"
          ]
        }
      ]
    },
    {
      "cell_type": "markdown",
      "source": [
        "Takes time as computing silohette score for 560 features"
      ],
      "metadata": {
        "id": "8j-rfdZnzxAE"
      }
    },
    {
      "cell_type": "code",
      "source": [
        "features_selected = features[selected_features_k_best].copy()"
      ],
      "metadata": {
        "id": "Gx_ZtJ-YIz3f"
      },
      "execution_count": 460,
      "outputs": []
    },
    {
      "cell_type": "code",
      "source": [
        "print(features_selected.shape)"
      ],
      "metadata": {
        "colab": {
          "base_uri": "https://localhost:8080/"
        },
        "id": "qezAcGAkj3xD",
        "outputId": "6c71b0d5-9a05-4c84-b4db-a3dc67e4aac0"
      },
      "execution_count": 436,
      "outputs": [
        {
          "output_type": "stream",
          "name": "stdout",
          "text": [
            "(4000, 50)\n"
          ]
        }
      ]
    },
    {
      "cell_type": "markdown",
      "source": [
        "# Pre-processing"
      ],
      "metadata": {
        "id": "a0jKBoulz8bD"
      }
    },
    {
      "cell_type": "code",
      "source": [
        "X_train = features_selected \n",
        "y_train_6_classes = train_subset['Activity']\n",
        "y_train_6_classes_labels = train_subset['ActivityName']"
      ],
      "metadata": {
        "id": "4mc7UusfzoPf"
      },
      "execution_count": 461,
      "outputs": []
    },
    {
      "cell_type": "code",
      "source": [
        "conditions_2_classes = [(train_subset['Activity'] <= 3),(train_subset['Activity'] > 3)]\n",
        "values_2_classes = [0, 1]\n",
        "y_train_2_classes = np.select(conditions_2_classes, values_2_classes)"
      ],
      "metadata": {
        "id": "oPQDSLqNxKmC"
      },
      "execution_count": 462,
      "outputs": []
    },
    {
      "cell_type": "code",
      "source": [
        "conditions_2_classes_labels = [(y_train_2_classes == 0),(y_train_2_classes == 1)]\n",
        "values_2_classes_labels = [\"MOTION\",\"STATIONARY\",]\n",
        "y_train_2_classes_labels = np.select(conditions_2_classes_labels, values_2_classes_labels)"
      ],
      "metadata": {
        "id": "UruZS4EIgMz_"
      },
      "execution_count": 463,
      "outputs": []
    },
    {
      "cell_type": "code",
      "source": [
        "#normalize the dataset\n",
        "scaler = StandardScaler()\n",
        "X_train = scaler.fit_transform(X_train)"
      ],
      "metadata": {
        "id": "jdpALv4s0BmN"
      },
      "execution_count": 464,
      "outputs": []
    },
    {
      "cell_type": "markdown",
      "source": [
        "# Metrics"
      ],
      "metadata": {
        "id": "XqBz-X8oxeqM"
      }
    },
    {
      "cell_type": "code",
      "source": [
        "def get_dbscan_metrics(targets, c_labels,name):\n",
        "  evaluation_results = []\n",
        "  n_clusters_ = len(set(c_labels)) - (1 if -1 in c_labels else 0)\n",
        "  evaluation_results.append(n_clusters_)\n",
        "  evaluation_results.append(metrics.homogeneity_score(targets, c_labels))\n",
        "  evaluation_results.append(metrics.completeness_score(targets, c_labels))\n",
        "  evaluation_results.append(metrics.v_measure_score(targets, c_labels))\n",
        "  evaluation_results.append(metrics.adjusted_rand_score(targets,c_labels))\n",
        "  evaluation_results.append(metrics.adjusted_mutual_info_score(targets, c_labels))\n",
        "  evaluation_results = [ '%.2f' % elem for elem in evaluation_results]\n",
        "  evaluation_results.insert(0, name)\n",
        "  return evaluation_results"
      ],
      "metadata": {
        "id": "NX9fxBJpti1n"
      },
      "execution_count": 31,
      "outputs": []
    },
    {
      "cell_type": "code",
      "source": [
        "from prettytable import PrettyTable\n",
        "def print_metrics(evaluation_results):\n",
        "  labels = ['name','no_clusters', 'homo','compl','v-meas','ARI','AMI']\n",
        "  results = evaluation_results  \n",
        "  t = PrettyTable(labels)\n",
        "  t.add_row(results)\n",
        "  return t"
      ],
      "metadata": {
        "id": "qumtVe7Atd9R"
      },
      "execution_count": 32,
      "outputs": []
    },
    {
      "cell_type": "code",
      "source": [
        "# Plot the clusters\n",
        "def plot_dbscan_cluster(ax,title,dataframe,labels):\n",
        "  ax.scatter(dataframe[:, 0], dataframe[:,1], c = labels, cmap= \"plasma\") \n",
        "  ax.title.set_text(title)\n",
        "  ax.set_xlabel(\"Component 1\")\n",
        "  ax.set_ylabel(\"Component 2\")"
      ],
      "metadata": {
        "id": "cMQ6GEirztU3"
      },
      "execution_count": 33,
      "outputs": []
    },
    {
      "cell_type": "code",
      "source": [
        "def visualise_labels(dataframe,targets,colors):\n",
        "  import matplotlib.pyplot as plt\n",
        "  fig = plt.figure(figsize = (8,8))\n",
        "  ax = fig.add_subplot(1,1,1) \n",
        "  ax.set_xlabel('Principal Component 1', fontsize = 15)\n",
        "  ax.set_ylabel('Principal Component 2', fontsize = 15)\n",
        "  ax.set_title('2 component PCA', fontsize = 20)\n",
        "  \n",
        "  for target, color in zip(targets,colors):\n",
        "      indicesToKeep = dataframe['ActivityName'] == target\n",
        "      ax.scatter(dataframe.loc[indicesToKeep, 'principal component 1']\n",
        "                , dataframe.loc[indicesToKeep, 'principal component 2']\n",
        "                , c = color\n",
        "                , s = 50)\n",
        "  ax.legend(targets)\n",
        "  ax.grid()"
      ],
      "metadata": {
        "id": "BCBkT8Q7-eLz"
      },
      "execution_count": 34,
      "outputs": []
    },
    {
      "cell_type": "code",
      "source": [
        "def get_optimal_epislon(start,end,min_points,dataframe,targets):\n",
        "    high_score = 0\n",
        "    optimal_epsilon = 0\n",
        "    for epsilon_current in range(start, end):\n",
        "        # print(\"episilon current:  \" + str(epsilon_current))\n",
        "        labels = getDbscan(epsilon_current, min_points, dataframe)\n",
        "        score = metrics.homogeneity_score(targets, labels)\n",
        "        # print(\"episilon current score:  \" + str(score))\n",
        "        if score >= high_score:\n",
        "            optimal_epsilon = epsilon_current\n",
        "            high_score = score\n",
        "    return optimal_epsilon"
      ],
      "metadata": {
        "id": "-chThqvS7TxY"
      },
      "execution_count": 35,
      "outputs": []
    },
    {
      "cell_type": "code",
      "source": [
        "def plot_cluster(ax,graph_title,dataframe,target_names,colors,labels):\n",
        "  # Supply the limits since random data will be plotted\n",
        "  ax.set_xlabel('Principal Component 1', fontsize = 15)\n",
        "  ax.set_ylabel('Principal Component 2', fontsize = 15)\n",
        "  ax.set_title(graph_title, fontsize = 20)\n",
        "\n",
        "  for target, color in zip(target_names,colors):\n",
        "      indicesToKeep = labels == target\n",
        "      ax.scatter(dataframe.loc[indicesToKeep, 'principal component 1']\n",
        "                , dataframe.loc[indicesToKeep, 'principal component 2']\n",
        "                , c = color\n",
        "                , s = 50)\n",
        "  ax.legend(target_names)\n",
        "  ax.grid()"
      ],
      "metadata": {
        "id": "Lb8UprYjJyLj"
      },
      "execution_count": 36,
      "outputs": []
    },
    {
      "cell_type": "markdown",
      "source": [
        "# DBSCAN"
      ],
      "metadata": {
        "id": "fUYYDQXtBtkU"
      }
    },
    {
      "cell_type": "code",
      "source": [
        "def getDbscan(eps, min_samples, data_frame):\n",
        "    dbscan = DBSCAN(eps=eps, min_samples=min_samples).fit(data_frame)\n",
        "    dbscan.fit(data_frame)\n",
        "    c_labels = dbscan.labels_\n",
        "    return c_labels"
      ],
      "metadata": {
        "id": "QhGCQ9tG0Kls"
      },
      "execution_count": 37,
      "outputs": []
    },
    {
      "cell_type": "code",
      "source": [
        "def findDBSCANOptimalEpsilon(features,ns):\n",
        "  noOfPointsYouHave = len(features)\n",
        "  nbrs = NearestNeighbors(n_neighbors=ns).fit(features)\n",
        "  distances, indices = nbrs.kneighbors(features)\n",
        "  distanceDec = sorted(distances[:,ns-1], reverse=True)\n",
        "  plt.figure(figsize=(20,10))\n",
        "  plt.title(\"Nearest Neighbours Distance Graph\")\n",
        "  plt.plot(list(range(1,noOfPointsYouHave+1)), distanceDec)"
      ],
      "metadata": {
        "id": "aLyorEsO1Y_R"
      },
      "execution_count": 489,
      "outputs": []
    },
    {
      "cell_type": "code",
      "source": [
        "findDBSCANOptimalEpsilon(X_train,6)"
      ],
      "metadata": {
        "colab": {
          "base_uri": "https://localhost:8080/",
          "height": 607
        },
        "id": "sHgRAfKR1Z4h",
        "outputId": "852b90c6-22df-4f2d-dd8d-a5eb6eb7474e"
      },
      "execution_count": 490,
      "outputs": [
        {
          "output_type": "display_data",
          "data": {
            "image/png": "[encoded data removed]",
            "text/plain": [
              "<Figure size 1440x720 with 1 Axes>"
            ]
          },
          "metadata": {
            "needs_background": "light"
          }
        }
      ]
    },
    {
      "cell_type": "markdown",
      "source": [
        "Parameter picking min_points_normal:\n",
        "minPts is selected based on the domain knowledge. If you do not have domain understanding, a rule of thumb is to derive minPts from the number of dimensions D in the data set. minPts >= D + 1. For 2D data, take minPts = 4. For larger datasets, with much noise, it suggested to go with minPts = 2 * D."
      ],
      "metadata": {
        "id": "WqgOmXV3RQCO"
      }
    },
    {
      "cell_type": "code",
      "source": [
        "number_of_features_normal = X_train.shape[1]\n",
        "min_points_normal = number_of_features_normal + 1"
      ],
      "metadata": {
        "id": "AVNTy7IwQyzJ"
      },
      "execution_count": 491,
      "outputs": []
    },
    {
      "cell_type": "code",
      "source": [
        "print(\"suggested min points:  \" + str(min_points_normal))"
      ],
      "metadata": {
        "colab": {
          "base_uri": "https://localhost:8080/"
        },
        "id": "d1xpf9MwR_jR",
        "outputId": "e770bfe6-c699-4240-dea7-d066aa3cf583"
      },
      "execution_count": 492,
      "outputs": [
        {
          "output_type": "stream",
          "name": "stdout",
          "text": [
            "suggested min points:  201\n"
          ]
        }
      ]
    },
    {
      "cell_type": "markdown",
      "source": [
        "Parameter picking epsilon"
      ],
      "metadata": {
        "id": "zV0RjAsNRT9D"
      }
    },
    {
      "cell_type": "code",
      "source": [
        "epsilon_normal_2_classes = 7\n",
        "cluster_labels_normal_2_classes = getDbscan(epsilon_normal_2_classes,min_points_normal, X_train)\n",
        "evaluation_metrics_normal_2_classes  = get_dbscan_metrics(y_train_2_classes,cluster_labels_normal_2_classes,'PLAIN_2_CLUSTERS')\n",
        "print(print_metrics(evaluation_metrics_normal_2_classes))"
      ],
      "metadata": {
        "colab": {
          "base_uri": "https://localhost:8080/"
        },
        "id": "rrj-KO1aRn3B",
        "outputId": "1dfa62d4-952b-4e45-dc20-139b78a30c7f"
      },
      "execution_count": 529,
      "outputs": [
        {
          "output_type": "stream",
          "name": "stdout",
          "text": [
            "+------------------+-------------+------+-------+--------+------+------+\n",
            "|       name       | no_clusters | homo | compl | v-meas | ARI  | AMI  |\n",
            "+------------------+-------------+------+-------+--------+------+------+\n",
            "| PLAIN_2_CLUSTERS |     2.00    | 0.97 |  0.71 |  0.82  | 0.84 | 0.82 |\n",
            "+------------------+-------------+------+-------+--------+------+------+\n"
          ]
        }
      ]
    },
    {
      "cell_type": "code",
      "source": [
        "epsilon_normal_6_classes = 4\n",
        "cluster_labels_normal_6_classes = getDbscan(epsilon_normal_6_classes, 40, X_train)\n",
        "evaluation_metrics_normal_6_classes  = get_dbscan_metrics(y_train_6_classes,cluster_labels_normal_6_classes,'PLAIN_6_CLUSTERS')\n",
        "print(print_metrics(evaluation_metrics_normal_6_classes))"
      ],
      "metadata": {
        "colab": {
          "base_uri": "https://localhost:8080/"
        },
        "id": "_Ss_jr9W1msJ",
        "outputId": "76f4bf01-0118-4afe-b0c5-09b019380172"
      },
      "execution_count": 530,
      "outputs": [
        {
          "output_type": "stream",
          "name": "stdout",
          "text": [
            "+------------------+-------------+------+-------+--------+------+------+\n",
            "|       name       | no_clusters | homo | compl | v-meas | ARI  | AMI  |\n",
            "+------------------+-------------+------+-------+--------+------+------+\n",
            "| PLAIN_6_CLUSTERS |     5.00    | 0.38 |  0.70 |  0.49  | 0.30 | 0.49 |\n",
            "+------------------+-------------+------+-------+--------+------+------+\n"
          ]
        }
      ]
    },
    {
      "cell_type": "markdown",
      "source": [
        "# PCA"
      ],
      "metadata": {
        "id": "9cfHGsEHAZQ4"
      }
    },
    {
      "cell_type": "code",
      "source": [
        "#check for optimal number of features\n",
        "pca = PCA(random_state=123)\n",
        "pca.fit(X_train)\n",
        "features = range(pca.n_components_)\n",
        "\n",
        "plt.figure(figsize=(8,4))\n",
        "plt.bar(features[:15], pca.explained_variance_[:15], color='lightskyblue')\n",
        "plt.xlabel('PCA feature')\n",
        "plt.ylabel('Variance')\n",
        "plt.title('PCA feature vs Variance')\n",
        "plt.xticks(features[:15])\n",
        "plt.show()"
      ],
      "metadata": {
        "colab": {
          "base_uri": "https://localhost:8080/",
          "height": 295
        },
        "id": "1wtmjBrdAgZg",
        "outputId": "dacbc3b6-8f0d-4542-c872-357103ceab54"
      },
      "execution_count": 495,
      "outputs": [
        {
          "output_type": "display_data",
          "data": {
            "image/png": "[encoded data removed]",
            "text/plain": [
              "<Figure size 576x288 with 1 Axes>"
            ]
          },
          "metadata": {
            "needs_background": "light"
          }
        }
      ]
    },
    {
      "cell_type": "code",
      "source": [
        "def pca_transform(n_comp,data):\n",
        "    pca = PCA(n_components=n_comp, random_state=123)\n",
        "    dataReduced = pca.fit_transform(data)\n",
        "    print('Shape of the new Data df: ' + str(dataReduced.shape))\n",
        "    return dataReduced"
      ],
      "metadata": {
        "id": "klfJFPMSArqR"
      },
      "execution_count": 496,
      "outputs": []
    },
    {
      "cell_type": "code",
      "source": [
        "X_train_pca = pca_transform(n_comp=2, data=X_train)"
      ],
      "metadata": {
        "colab": {
          "base_uri": "https://localhost:8080/"
        },
        "id": "mrhX040CZxn_",
        "outputId": "051acdeb-02e8-4c71-ac64-1959f0e68316"
      },
      "execution_count": 497,
      "outputs": [
        {
          "output_type": "stream",
          "name": "stdout",
          "text": [
            "Shape of the new Data df: (4000, 2)\n"
          ]
        }
      ]
    },
    {
      "cell_type": "code",
      "source": [
        "number_of_features_pca = X_train_pca.shape[1]\n",
        "min_points_pca = 1+ number_of_features_pca"
      ],
      "metadata": {
        "id": "3agy35onVG3Q"
      },
      "execution_count": 498,
      "outputs": []
    },
    {
      "cell_type": "code",
      "source": [
        "print(\"suggested min points:  \" + str(min_points_pca))"
      ],
      "metadata": {
        "colab": {
          "base_uri": "https://localhost:8080/"
        },
        "id": "ceMD5Pk7Vs-t",
        "outputId": "45fd7557-7e45-422a-c879-171dcd0855fb"
      },
      "execution_count": 499,
      "outputs": [
        {
          "output_type": "stream",
          "name": "stdout",
          "text": [
            "suggested min points:  3\n"
          ]
        }
      ]
    },
    {
      "cell_type": "code",
      "source": [
        "findDBSCANOptimalEpsilon(X_train_pca,6)"
      ],
      "metadata": {
        "colab": {
          "base_uri": "https://localhost:8080/",
          "height": 607
        },
        "id": "LERVwLCaN7yB",
        "outputId": "0d8dde22-1366-4a88-a03e-6ffaef8e3d66"
      },
      "execution_count": 500,
      "outputs": [
        {
          "output_type": "display_data",
          "data": {
            "image/png": "[encoded data removed]",
            "text/plain": [
              "<Figure size 1440x720 with 1 Axes>"
            ]
          },
          "metadata": {
            "needs_background": "light"
          }
        }
      ]
    },
    {
      "cell_type": "code",
      "source": [
        "epsilon_pca_6_classes = 1\n",
        "cluster_labels_pca_6_classes = getDbscan(epsilon_pca_6_classes, 4, X_train_pca)\n",
        "evaluation_metrics_pca_6_classes  = get_dbscan_metrics(y_train_6_classes,cluster_labels_pca_6_classes,'PCA_6_CLASSES')\n",
        "print(print_metrics(evaluation_metrics_pca_6_classes))"
      ],
      "metadata": {
        "colab": {
          "base_uri": "https://localhost:8080/"
        },
        "id": "OhpTEFTYLYiZ",
        "outputId": "4856ea5b-14c3-469c-a49d-ab333b1c87fc"
      },
      "execution_count": 526,
      "outputs": [
        {
          "output_type": "stream",
          "name": "stdout",
          "text": [
            "+---------------+-------------+------+-------+--------+------+------+\n",
            "|      name     | no_clusters | homo | compl | v-meas | ARI  | AMI  |\n",
            "+---------------+-------------+------+-------+--------+------+------+\n",
            "| PCA_6_CLASSES |     6.00    | 0.39 |  0.89 |  0.54  | 0.33 | 0.54 |\n",
            "+---------------+-------------+------+-------+--------+------+------+\n"
          ]
        }
      ]
    },
    {
      "cell_type": "code",
      "source": [
        "epsilon_pca_2_classes = 2\n",
        "cluster_labels_pca_2_classes = getDbscan(epsilon_pca_2_classes, min_points_pca, X_train_pca)\n",
        "evaluation_metrics_pca_2_classes = get_dbscan_metrics(y_train_2_classes,cluster_labels_pca_2_classes,'PCA_2_CLASSES')\n",
        "print(print_metrics(evaluation_metrics_pca_2_classes))"
      ],
      "metadata": {
        "colab": {
          "base_uri": "https://localhost:8080/"
        },
        "id": "UKUDxapeA1b6",
        "outputId": "fae9f6b3-a057-4fe6-e4ea-cc04f546a2ad"
      },
      "execution_count": 527,
      "outputs": [
        {
          "output_type": "stream",
          "name": "stdout",
          "text": [
            "+---------------+-------------+------+-------+--------+------+------+\n",
            "|      name     | no_clusters | homo | compl | v-meas | ARI  | AMI  |\n",
            "+---------------+-------------+------+-------+--------+------+------+\n",
            "| PCA_2_CLASSES |     2.00    | 0.98 |  0.97 |  0.97  | 0.99 | 0.97 |\n",
            "+---------------+-------------+------+-------+--------+------+------+\n"
          ]
        }
      ]
    },
    {
      "cell_type": "markdown",
      "source": [
        "# Evaluation Computational\n",
        "\n",
        "\n"
      ],
      "metadata": {
        "id": "WhX6mun4HHO3"
      }
    },
    {
      "cell_type": "markdown",
      "source": [
        "Computer efficieny methods"
      ],
      "metadata": {
        "id": "XZFsvpuTHNCY"
      }
    },
    {
      "cell_type": "code",
      "source": [
        "# The first function is to stop the tracing, if any, and to start the fresh tracing. \n",
        "# This ensures that the tracing of 2 code blocks doesn’t interfere with each other. \n",
        "def tracing_start():\n",
        "    tracemalloc.stop()\n",
        "    print(\"nTracing Status : \", tracemalloc.is_tracing())\n",
        "    tracemalloc.start()\n",
        "    print(\"Tracing Status : \", tracemalloc.is_tracing())\n",
        "\n",
        "# The second function is to find the peak size in MB of a block of code that was traced.\n",
        "def tracing_mem():\n",
        "    first_size, first_peak = tracemalloc.get_traced_memory()\n",
        "    peak = first_peak/(1024*1024)\n",
        "    print(\"peak in MB:  \" + str(peak))\n",
        "    return peak"
      ],
      "metadata": {
        "id": "nQLMrDJg-iMW"
      },
      "execution_count": 291,
      "outputs": []
    },
    {
      "cell_type": "code",
      "source": [
        "# PCA\n",
        "tracing_start()\n",
        "start = time.time()\n",
        "getDbscan(epsilon_pca_6_classes, min_points_pca, X_train_pca)\n",
        "end = time.time()\n",
        "pca_time = (end-start)*1000\n",
        "print(\"time elapsed PCA {} milli seconds\".format(pca_time))\n",
        "pca_peak = tracing_mem()\n",
        "\n",
        "# normal\n",
        "tracing_start()\n",
        "start = time.time()\n",
        "getDbscan(epsilon_normal_6_classes, min_points_normal, X_train)\n",
        "end = time.time()\n",
        "normal_time = (end-start)*1000\n",
        "print(\"time elapsed normal {} milli seconds\".format(normal_time))\n",
        "normal_peak = tracing_mem()"
      ],
      "metadata": {
        "colab": {
          "base_uri": "https://localhost:8080/"
        },
        "id": "N62YtJ0u-omC",
        "outputId": "cfbe9e9a-6b5d-4d0d-a327-e1022fe96ce1"
      },
      "execution_count": 292,
      "outputs": [
        {
          "output_type": "stream",
          "name": "stdout",
          "text": [
            "nTracing Status :  False\n",
            "Tracing Status :  True\n",
            "time elapsed PCA 27.554035186767578 milli seconds\n",
            "peak in MB:  0.28507423400878906\n",
            "nTracing Status :  False\n",
            "Tracing Status :  True\n",
            "time elapsed normal 82.63182640075684 milli seconds\n",
            "peak in MB:  9.557129859924316\n"
          ]
        }
      ]
    },
    {
      "cell_type": "code",
      "source": [
        "# Plot time\n",
        "fig = plt.figure()\n",
        "ax = fig.add_axes([0,0,1,1])\n",
        "labels = ['PCA','NON-PCA']\n",
        "times_miliseconds = [pca_time,normal_time]\n",
        "ax.bar(labels,times_miliseconds)\n",
        "plt.title(\"Time PCA vs Non-PCA\")\n",
        "plt.show()\n",
        "\n",
        "# Plot speed\n",
        "fig = plt.figure()\n",
        "ax = fig.add_axes([0,0,1,1])\n",
        "labels = ['PCA','NON-PCA']\n",
        "peak_MB = [pca_peak,normal_peak]\n",
        "ax.bar(labels,peak_MB)\n",
        "plt.title(\"Speed PCA vs Non-PCA\")\n",
        "plt.show()"
      ],
      "metadata": {
        "colab": {
          "base_uri": "https://localhost:8080/",
          "height": 0
        },
        "id": "QWweyre7DTbd",
        "outputId": "eeb56e7c-adf8-402c-ef08-da3e3d672d67"
      },
      "execution_count": 293,
      "outputs": [
        {
          "output_type": "display_data",
          "data": {
            "image/png": "[encoded data removed]",
            "text/plain": [
              "<Figure size 432x288 with 1 Axes>"
            ]
          },
          "metadata": {
            "needs_background": "light"
          }
        },
        {
          "output_type": "display_data",
          "data": {
            "image/png": "[encoded data removed]",
            "text/plain": [
              "<Figure size 432x288 with 1 Axes>"
            ]
          },
          "metadata": {
            "needs_background": "light"
          }
        }
      ]
    },
    {
      "cell_type": "markdown",
      "source": [
        "# Evaluation Clustering"
      ],
      "metadata": {
        "id": "MobCk5KwZ4oW"
      }
    },
    {
      "cell_type": "markdown",
      "source": [
        "Evaluation Clustering metrics Table"
      ],
      "metadata": {
        "id": "fyXp3vmLpuqT"
      }
    },
    {
      "cell_type": "code",
      "source": [
        "t = print_metrics(evaluation_metrics_normal_6_classes)\n",
        "t.add_row(evaluation_metrics_pca_6_classes)\n",
        "t.add_row(evaluation_metrics_normal_2_classes)\n",
        "t.add_row(evaluation_metrics_pca_2_classes)\n",
        "print(t)"
      ],
      "metadata": {
        "colab": {
          "base_uri": "https://localhost:8080/"
        },
        "id": "yEY4gy-hGwmC",
        "outputId": "3c69612d-91f9-49f2-cb94-fb7eebbe1ca1"
      },
      "execution_count": 531,
      "outputs": [
        {
          "output_type": "stream",
          "name": "stdout",
          "text": [
            "+------------------+-------------+------+-------+--------+------+------+\n",
            "|       name       | no_clusters | homo | compl | v-meas | ARI  | AMI  |\n",
            "+------------------+-------------+------+-------+--------+------+------+\n",
            "| PLAIN_6_CLUSTERS |     5.00    | 0.38 |  0.70 |  0.49  | 0.30 | 0.49 |\n",
            "|  PCA_6_CLASSES   |     6.00    | 0.39 |  0.89 |  0.54  | 0.33 | 0.54 |\n",
            "| PLAIN_2_CLUSTERS |     2.00    | 0.97 |  0.71 |  0.82  | 0.84 | 0.82 |\n",
            "|  PCA_2_CLASSES   |     2.00    | 0.98 |  0.97 |  0.97  | 0.99 | 0.97 |\n",
            "+------------------+-------------+------+-------+--------+------+------+\n"
          ]
        }
      ]
    },
    {
      "cell_type": "markdown",
      "source": [
        "Plot 6 Class Clusters"
      ],
      "metadata": {
        "id": "9k2vg8rjmckw"
      }
    },
    {
      "cell_type": "code",
      "source": [
        "targets_names_6_classes = [-1, 0,  1,  2,  3,  4,  5]\n",
        "targets_names_6_classes_labels = targets_names = ['WALKING', 'WALKING_UPSTAIRS', 'WALKING_DOWNSTAIRS',\n",
        "           'SITTING','STANDING','LAYING']\n",
        "colors_6_classes = ['r', 'g', 'b','m','c','y','k']\n",
        "\n",
        "df = pd.DataFrame(data = X_train_pca\n",
        "             , columns = ['principal component 1', 'principal component 2'])"
      ],
      "metadata": {
        "id": "iY7DXGDmZGdM"
      },
      "execution_count": 532,
      "outputs": []
    },
    {
      "cell_type": "code",
      "source": [
        "print(np.unique(cluster_labels_pca_2_classes))"
      ],
      "metadata": {
        "colab": {
          "base_uri": "https://localhost:8080/"
        },
        "id": "x9kS5JBcbUdN",
        "outputId": "3f2bffa6-fbe7-4c3e-a477-3e9ad9a9b170"
      },
      "execution_count": 533,
      "outputs": [
        {
          "output_type": "stream",
          "name": "stdout",
          "text": [
            "[-1  0  1]\n"
          ]
        }
      ]
    },
    {
      "cell_type": "code",
      "source": [
        "# both use pca for visual comparison\n",
        "fig, (ax1, ax2, ax3) = plt.subplots(1, 3,figsize=(20,6))\n",
        "# Defining custom 'xlim' and 'ylim' values.\n",
        "custom_xlim = (-20, 100)\n",
        "custom_ylim = (-30, 60)\n",
        "\n",
        "# # Setting the values for all axes.\n",
        "plt.setp(ax1, xlim=custom_xlim, ylim=custom_ylim)\n",
        "plt.setp(ax2, xlim=custom_xlim, ylim=custom_ylim)\n",
        "plt.setp(ax3, xlim=custom_xlim, ylim=custom_ylim)\n",
        "\n",
        "fig.suptitle('Comparison of Clustering 6 Classes')\n",
        "plot_cluster(ax1,\"Normal\", df,targets_names_6_classes, colors_6_classes,cluster_labels_normal_6_classes)\n",
        "plot_cluster(ax2,\"PCA\", df,targets_names_6_classes, colors_6_classes,cluster_labels_pca_6_classes)\n",
        "plot_cluster(ax3,\"Correct\", df,targets_names_6_classes_labels,colors_6_classes,y_train_6_classes_labels)"
      ],
      "metadata": {
        "colab": {
          "base_uri": "https://localhost:8080/",
          "height": 436
        },
        "id": "dfvBd4C6JwI5",
        "outputId": "f0cc99a8-a902-4c46-d4c4-15c80f015081"
      },
      "execution_count": 534,
      "outputs": [
        {
          "output_type": "display_data",
          "data": {
            "image/png": "[encoded data removed]",
            "text/plain": [
              "<Figure size 1440x432 with 3 Axes>"
            ]
          },
          "metadata": {
            "needs_background": "light"
          }
        }
      ]
    },
    {
      "cell_type": "markdown",
      "source": [
        "Plot 2 Class Clusters"
      ],
      "metadata": {
        "id": "f1kuB-8emfkR"
      }
    },
    {
      "cell_type": "code",
      "source": [
        "targets_names_2_classes = [-1, 0,  1]\n",
        "targets_names_2_classes_labels = values_2_classes_labels\n",
        "colors_2_classes = ['r', 'g', 'k']"
      ],
      "metadata": {
        "id": "t7TCS2_hf57A"
      },
      "execution_count": 412,
      "outputs": []
    },
    {
      "cell_type": "code",
      "source": [
        "custom_xlim = (-20, 100)\n",
        "custom_ylim = (-30, 60)\n",
        "\n",
        "# both use pca for visual comparison\n",
        "fig, (ax1, ax2, ax3) = plt.subplots(1, 3,figsize=(20,6))\n",
        "\n",
        "# # Setting the values for all axes.\n",
        "plt.setp(ax1, xlim=custom_xlim, ylim=custom_ylim)\n",
        "plt.setp(ax2, xlim=custom_xlim, ylim=custom_ylim)\n",
        "plt.setp(ax3, xlim=custom_xlim, ylim=custom_ylim)\n",
        "\n",
        "fig.suptitle('Comparison of Clustering 2 Classes')\n",
        "plot_cluster(ax1,\"Normal\", df,targets_names_2_classes, colors_2_classes,cluster_labels_normal_2_classes)\n",
        "plot_cluster(ax2,\"PCA\", df,targets_names_2_classes, colors_2_classes,cluster_labels_pca_2_classes)\n",
        "plot_cluster(ax3,\"Correct\", df,targets_names_2_classes_labels,colors_2_classes,y_train_2_classes_labels)"
      ],
      "metadata": {
        "colab": {
          "base_uri": "https://localhost:8080/",
          "height": 436
        },
        "id": "YbWRwJpefz_P",
        "outputId": "842094a7-6ea0-4d44-d9b0-da27db72b320"
      },
      "execution_count": 535,
      "outputs": [
        {
          "output_type": "display_data",
          "data": {
            "image/png": "[encoded data removed]",
            "text/plain": [
              "<Figure size 1440x432 with 3 Axes>"
            ]
          },
          "metadata": {
            "needs_background": "light"
          }
        }
      ]
    }
  ],
  "metadata": {
    "kernelspec": {
      "display_name": "Python 3",
      "language": "python",
      "name": "python3"
    },
    "language_info": {
      "codemirror_mode": {
        "name": "ipython",
        "version": 3
      },
      "file_extension": ".py",
      "mimetype": "text/x-python",
      "name": "python",
      "nbconvert_exporter": "python",
      "pygments_lexer": "ipython3",
      "version": "3.7.6"
    },
    "colab": {
      "name": "Assignment3HumanActivityRecognition.ipynb",
      "provenance": [],
      "collapsed_sections": [
        "lckrlG-xzuk2",
        "XqBz-X8oxeqM",
        "WhX6mun4HHO3"
      ],
      "include_colab_link": true
    }
  },
  "nbformat": 4,
  "nbformat_minor": 0
}