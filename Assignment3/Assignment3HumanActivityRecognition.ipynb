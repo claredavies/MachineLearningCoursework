{
  "cells": [
    {
      "cell_type": "markdown",
      "metadata": {
        "id": "view-in-github",
        "colab_type": "text"
      },
      "source": [
        "<a href=\"https://colab.research.google.com/github/claredavies/MachineLearningCoursework/blob/main/Assignment3/Assignment3HumanActivityRecognition.ipynb\" target=\"_parent\"><img src=\"https://colab.research.google.com/assets/colab-badge.svg\" alt=\"Open In Colab\"/></a>"
      ]
    },
    {
      "cell_type": "markdown",
      "metadata": {
        "id": "Y40F4EVsSxu8"
      },
      "source": [
        "<html><h1><center style=\"color:blue\">Human Activity Recognition with Smartphones</center></h1></html>"
      ]
    },
    {
      "cell_type": "markdown",
      "source": [
        "# Load in Libraries"
      ],
      "metadata": {
        "id": "lckrlG-xzuk2"
      }
    },
    {
      "cell_type": "code",
      "source": [
        "import matplotlib as mlt\n",
        "import matplotlib.pyplot as plt\n",
        "import seaborn as sns\n",
        "import numpy as np\n",
        "import pandas as pd\n",
        "from sklearn.cluster import DBSCAN\n",
        "from sklearn.ensemble import RandomForestClassifier\n",
        "from sklearn.neighbors import NearestNeighbors\n",
        "from sklearn import metrics\n",
        "from sklearn.preprocessing import StandardScaler\n",
        "from sklearn import metrics\n",
        "from sklearn.decomposition import PCA\n",
        "from sklearn.manifold import TSNE\n",
        "from matplotlib.colors import rgb2hex\n",
        "from matplotlib.cm import get_cmap\n",
        "\n",
        "!python -m pip install 'fsspec>=0.3.3'\n",
        "import tracemalloc\n",
        "import pandas as pd\n",
        "import dask.dataframe as dd\n",
        "import time\n",
        "\n",
        "from IPython.display import display\n",
        "from mpl_toolkits.mplot3d import Axes3D\n",
        "from sklearn.metrics import homogeneity_score, completeness_score, \\\n",
        "v_measure_score, adjusted_rand_score, adjusted_mutual_info_score, silhouette_score\n",
        "%matplotlib inline\n",
        "\n",
        "pd.set_option('display.max_rows', None)"
      ],
      "metadata": {
        "id": "PjFiEFX9U7iK",
        "colab": {
          "base_uri": "https://localhost:8080/"
        },
        "outputId": "3644b482-207b-4b90-ad74-eebb90134747"
      },
      "execution_count": 1,
      "outputs": [
        {
          "output_type": "stream",
          "name": "stdout",
          "text": [
            "Collecting fsspec>=0.3.3\n",
            "  Downloading fsspec-2022.2.0-py3-none-any.whl (134 kB)\n",
            "\u001b[?25l\r\u001b[K     |██▍                             | 10 kB 20.9 MB/s eta 0:00:01\r\u001b[K     |████▉                           | 20 kB 13.7 MB/s eta 0:00:01\r\u001b[K     |███████▎                        | 30 kB 9.7 MB/s eta 0:00:01\r\u001b[K     |█████████▊                      | 40 kB 8.4 MB/s eta 0:00:01\r\u001b[K     |████████████▏                   | 51 kB 4.9 MB/s eta 0:00:01\r\u001b[K     |██████████████▋                 | 61 kB 5.8 MB/s eta 0:00:01\r\u001b[K     |█████████████████               | 71 kB 5.7 MB/s eta 0:00:01\r\u001b[K     |███████████████████▍            | 81 kB 5.5 MB/s eta 0:00:01\r\u001b[K     |█████████████████████▉          | 92 kB 6.1 MB/s eta 0:00:01\r\u001b[K     |████████████████████████▎       | 102 kB 5.5 MB/s eta 0:00:01\r\u001b[K     |██████████████████████████▊     | 112 kB 5.5 MB/s eta 0:00:01\r\u001b[K     |█████████████████████████████▏  | 122 kB 5.5 MB/s eta 0:00:01\r\u001b[K     |███████████████████████████████▋| 133 kB 5.5 MB/s eta 0:00:01\r\u001b[K     |████████████████████████████████| 134 kB 5.5 MB/s \n",
            "\u001b[?25hInstalling collected packages: fsspec\n",
            "Successfully installed fsspec-2022.2.0\n"
          ]
        }
      ]
    },
    {
      "cell_type": "markdown",
      "source": [
        "# Read in Files"
      ],
      "metadata": {
        "id": "6F_KrGwiz1W-"
      }
    },
    {
      "cell_type": "markdown",
      "source": [
        "Upload zip UCI HAR Dataset.zip"
      ],
      "metadata": {
        "id": "7RNdwjZ5Tl02"
      }
    },
    {
      "cell_type": "code",
      "source": [
        "!unzip \"UCI HAR Dataset.zip\""
      ],
      "metadata": {
        "colab": {
          "base_uri": "https://localhost:8080/"
        },
        "id": "aWNrKJHkVF5e",
        "outputId": "e63cf979-9310-45f6-fcfa-ec38ba84004b"
      },
      "execution_count": 2,
      "outputs": [
        {
          "output_type": "stream",
          "name": "stdout",
          "text": [
            "Archive:  UCI HAR Dataset.zip\n",
            "   creating: UCI HAR Dataset/\n",
            "  inflating: UCI HAR Dataset/.DS_Store  \n",
            "   creating: __MACOSX/\n",
            "   creating: __MACOSX/UCI HAR Dataset/\n",
            "  inflating: __MACOSX/UCI HAR Dataset/._.DS_Store  \n",
            "  inflating: UCI HAR Dataset/activity_labels.txt  \n",
            "  inflating: __MACOSX/UCI HAR Dataset/._activity_labels.txt  \n",
            "  inflating: UCI HAR Dataset/features.txt  \n",
            "  inflating: __MACOSX/UCI HAR Dataset/._features.txt  \n",
            "  inflating: UCI HAR Dataset/features_info.txt  \n",
            "  inflating: __MACOSX/UCI HAR Dataset/._features_info.txt  \n",
            "  inflating: UCI HAR Dataset/README.txt  \n",
            "  inflating: __MACOSX/UCI HAR Dataset/._README.txt  \n",
            "   creating: UCI HAR Dataset/test/\n",
            "   creating: UCI HAR Dataset/test/Inertial Signals/\n",
            "  inflating: UCI HAR Dataset/test/Inertial Signals/body_acc_x_test.txt  \n",
            "   creating: __MACOSX/UCI HAR Dataset/test/\n",
            "   creating: __MACOSX/UCI HAR Dataset/test/Inertial Signals/\n",
            "  inflating: __MACOSX/UCI HAR Dataset/test/Inertial Signals/._body_acc_x_test.txt  \n",
            "  inflating: UCI HAR Dataset/test/Inertial Signals/body_acc_y_test.txt  \n",
            "  inflating: __MACOSX/UCI HAR Dataset/test/Inertial Signals/._body_acc_y_test.txt  \n",
            "  inflating: UCI HAR Dataset/test/Inertial Signals/body_acc_z_test.txt  \n",
            "  inflating: __MACOSX/UCI HAR Dataset/test/Inertial Signals/._body_acc_z_test.txt  \n",
            "  inflating: UCI HAR Dataset/test/Inertial Signals/body_gyro_x_test.txt  \n",
            "  inflating: __MACOSX/UCI HAR Dataset/test/Inertial Signals/._body_gyro_x_test.txt  \n",
            "  inflating: UCI HAR Dataset/test/Inertial Signals/body_gyro_y_test.txt  \n",
            "  inflating: __MACOSX/UCI HAR Dataset/test/Inertial Signals/._body_gyro_y_test.txt  \n",
            "  inflating: UCI HAR Dataset/test/Inertial Signals/body_gyro_z_test.txt  \n",
            "  inflating: __MACOSX/UCI HAR Dataset/test/Inertial Signals/._body_gyro_z_test.txt  \n",
            "  inflating: UCI HAR Dataset/test/Inertial Signals/total_acc_x_test.txt  \n",
            "  inflating: __MACOSX/UCI HAR Dataset/test/Inertial Signals/._total_acc_x_test.txt  \n",
            "  inflating: UCI HAR Dataset/test/Inertial Signals/total_acc_y_test.txt  \n",
            "  inflating: __MACOSX/UCI HAR Dataset/test/Inertial Signals/._total_acc_y_test.txt  \n",
            "  inflating: UCI HAR Dataset/test/Inertial Signals/total_acc_z_test.txt  \n",
            "  inflating: __MACOSX/UCI HAR Dataset/test/Inertial Signals/._total_acc_z_test.txt  \n",
            "  inflating: __MACOSX/UCI HAR Dataset/test/._Inertial Signals  \n",
            "  inflating: UCI HAR Dataset/test/subject_test.txt  \n",
            "  inflating: __MACOSX/UCI HAR Dataset/test/._subject_test.txt  \n",
            "  inflating: UCI HAR Dataset/test/X_test.txt  \n",
            "  inflating: __MACOSX/UCI HAR Dataset/test/._X_test.txt  \n",
            "  inflating: UCI HAR Dataset/test/y_test.txt  \n",
            "  inflating: __MACOSX/UCI HAR Dataset/test/._y_test.txt  \n",
            "  inflating: __MACOSX/UCI HAR Dataset/._test  \n",
            "   creating: UCI HAR Dataset/train/\n",
            "   creating: UCI HAR Dataset/train/Inertial Signals/\n",
            "  inflating: UCI HAR Dataset/train/Inertial Signals/body_acc_x_train.txt  \n",
            "   creating: __MACOSX/UCI HAR Dataset/train/\n",
            "   creating: __MACOSX/UCI HAR Dataset/train/Inertial Signals/\n",
            "  inflating: __MACOSX/UCI HAR Dataset/train/Inertial Signals/._body_acc_x_train.txt  \n",
            "  inflating: UCI HAR Dataset/train/Inertial Signals/body_acc_y_train.txt  \n",
            "  inflating: __MACOSX/UCI HAR Dataset/train/Inertial Signals/._body_acc_y_train.txt  \n",
            "  inflating: UCI HAR Dataset/train/Inertial Signals/body_acc_z_train.txt  \n",
            "  inflating: __MACOSX/UCI HAR Dataset/train/Inertial Signals/._body_acc_z_train.txt  \n",
            "  inflating: UCI HAR Dataset/train/Inertial Signals/body_gyro_x_train.txt  \n",
            "  inflating: __MACOSX/UCI HAR Dataset/train/Inertial Signals/._body_gyro_x_train.txt  \n",
            "  inflating: UCI HAR Dataset/train/Inertial Signals/body_gyro_y_train.txt  \n",
            "  inflating: __MACOSX/UCI HAR Dataset/train/Inertial Signals/._body_gyro_y_train.txt  \n",
            "  inflating: UCI HAR Dataset/train/Inertial Signals/body_gyro_z_train.txt  \n",
            "  inflating: __MACOSX/UCI HAR Dataset/train/Inertial Signals/._body_gyro_z_train.txt  \n",
            "  inflating: UCI HAR Dataset/train/Inertial Signals/total_acc_x_train.txt  \n",
            "  inflating: __MACOSX/UCI HAR Dataset/train/Inertial Signals/._total_acc_x_train.txt  \n",
            "  inflating: UCI HAR Dataset/train/Inertial Signals/total_acc_y_train.txt  \n",
            "  inflating: __MACOSX/UCI HAR Dataset/train/Inertial Signals/._total_acc_y_train.txt  \n",
            "  inflating: UCI HAR Dataset/train/Inertial Signals/total_acc_z_train.txt  \n",
            "  inflating: __MACOSX/UCI HAR Dataset/train/Inertial Signals/._total_acc_z_train.txt  \n",
            "  inflating: __MACOSX/UCI HAR Dataset/train/._Inertial Signals  \n",
            "  inflating: UCI HAR Dataset/train/subject_train.txt  \n",
            "  inflating: __MACOSX/UCI HAR Dataset/train/._subject_train.txt  \n",
            "  inflating: UCI HAR Dataset/train/X_train.txt  \n",
            "  inflating: __MACOSX/UCI HAR Dataset/train/._X_train.txt  \n",
            "  inflating: UCI HAR Dataset/train/y_train.txt  \n",
            "  inflating: __MACOSX/UCI HAR Dataset/train/._y_train.txt  \n",
            "  inflating: __MACOSX/UCI HAR Dataset/._train  \n",
            "  inflating: __MACOSX/._UCI HAR Dataset  \n"
          ]
        }
      ]
    },
    {
      "cell_type": "code",
      "execution_count": 3,
      "metadata": {
        "colab": {
          "base_uri": "https://localhost:8080/"
        },
        "id": "VNwZzSpHSxvE",
        "outputId": "92e510c1-3d0c-4085-cc28-937dd8787062"
      },
      "outputs": [
        {
          "output_type": "stream",
          "name": "stdout",
          "text": [
            "No of Features: 561\n"
          ]
        }
      ],
      "source": [
        "# get the features from the file features.txt\n",
        "features = list()\n",
        "with open('UCI HAR Dataset/features.txt') as f:\n",
        "    features = [line.split()[1] for line in f.readlines()]\n",
        "print('No of Features: {}'.format(len(features)))"
      ]
    },
    {
      "cell_type": "code",
      "source": [
        "# get the features from the file features.txt\n",
        "features = list()\n",
        "with open('UCI HAR Dataset/features.txt') as f:\n",
        "    features = [line.split()[1] for line in f.readlines()]\n",
        "print('No of Features: {}'.format(len(features)))\n",
        "\n",
        "# get the data from txt files to pandas dataffame\n",
        "X_train = pd.read_csv('UCI HAR Dataset/train/X_train.txt', delim_whitespace=True, header=None)\n",
        "X_train.columns = [features]\n",
        "# add subject column to the dataframe\n",
        "X_train['subject'] = pd.read_csv('UCI HAR Dataset/train/subject_train.txt', header=None, squeeze=True)\n",
        "\n",
        "y_train = pd.read_csv('UCI HAR Dataset/train/y_train.txt', names=['Activity'], squeeze=True)\n",
        "y_train_labels = y_train.map({1: 'WALKING', 2:'WALKING_UPSTAIRS',3:'WALKING_DOWNSTAIRS',\\\n",
        "                       4:'SITTING', 5:'STANDING',6:'LAYING'})\n",
        "\n",
        "# put all columns in a single dataframe\n",
        "train = X_train\n",
        "train['Activity'] = y_train\n",
        "train['ActivityName'] = y_train_labels"
      ],
      "metadata": {
        "colab": {
          "base_uri": "https://localhost:8080/"
        },
        "id": "55WpLpuXzWw-",
        "outputId": "b17d9b47-a3cc-4e98-8b52-108e40aaaece"
      },
      "execution_count": 573,
      "outputs": [
        {
          "output_type": "stream",
          "name": "stdout",
          "text": [
            "No of Features: 561\n"
          ]
        }
      ]
    },
    {
      "cell_type": "code",
      "source": [
        "# get the data from txt files to pandas dataffame\n",
        "# /content/UCI HAR Dataset/test/X_test.txt\n",
        "X_test = pd.read_csv('UCI HAR Dataset/test/X_test.txt', delim_whitespace=True, header=None)\n",
        "X_test.columns = [features]\n",
        "# add subject column to the dataframe\n",
        "X_test['subject'] = pd.read_csv('UCI HAR Dataset/test/subject_test.txt', header=None, squeeze=True)\n",
        "\n",
        "# get y labels from the txt file\n",
        "y_test = pd.read_csv('UCI HAR Dataset/test/y_test.txt', names=['Activity'], squeeze=True)\n",
        "y_test_labels = y_test.map({1: 'WALKING', 2:'WALKING_UPSTAIRS',3:'WALKING_DOWNSTAIRS',\\\n",
        "                       4:'SITTING', 5:'STANDING',6:'LAYING'})\n",
        "\n",
        "\n",
        "# put all columns in a single dataframe\n",
        "test = X_test\n",
        "test['Activity'] = y_test\n",
        "test['ActivityName'] = y_test_labels\n",
        "test.sample(2)"
      ],
      "metadata": {
        "colab": {
          "base_uri": "https://localhost:8080/",
          "height": 223
        },
        "id": "2yE_xCrKxHee",
        "outputId": "06ff2409-f687-4992-d8a3-66b4eb4cf342"
      },
      "execution_count": 576,
      "outputs": [
        {
          "output_type": "execute_result",
          "data": {
            "text/html": [
              "\n",
              "  <div id=\"df-2c3fe6b6-3f24-4995-b743-6f8dc6cfbafd\">\n",
              "    <div class=\"colab-df-container\">\n",
              "      <div>\n",
              "<style scoped>\n",
              "    .dataframe tbody tr th:only-of-type {\n",
              "        vertical-align: middle;\n",
              "    }\n",
              "\n",
              "    .dataframe tbody tr th {\n",
              "        vertical-align: top;\n",
              "    }\n",
              "\n",
              "    .dataframe thead tr th {\n",
              "        text-align: left;\n",
              "    }\n",
              "</style>\n",
              "<table border=\"1\" class=\"dataframe\">\n",
              "  <thead>\n",
              "    <tr>\n",
              "      <th></th>\n",
              "      <th>tBodyAcc-mean()-X</th>\n",
              "      <th>tBodyAcc-mean()-Y</th>\n",
              "      <th>tBodyAcc-mean()-Z</th>\n",
              "      <th>tBodyAcc-std()-X</th>\n",
              "      <th>tBodyAcc-std()-Y</th>\n",
              "      <th>tBodyAcc-std()-Z</th>\n",
              "      <th>tBodyAcc-mad()-X</th>\n",
              "      <th>tBodyAcc-mad()-Y</th>\n",
              "      <th>tBodyAcc-mad()-Z</th>\n",
              "      <th>tBodyAcc-max()-X</th>\n",
              "      <th>...</th>\n",
              "      <th>angle(tBodyAccMean,gravity)</th>\n",
              "      <th>angle(tBodyAccJerkMean),gravityMean)</th>\n",
              "      <th>angle(tBodyGyroMean,gravityMean)</th>\n",
              "      <th>angle(tBodyGyroJerkMean,gravityMean)</th>\n",
              "      <th>angle(X,gravityMean)</th>\n",
              "      <th>angle(Y,gravityMean)</th>\n",
              "      <th>angle(Z,gravityMean)</th>\n",
              "      <th>subject</th>\n",
              "      <th>Activity</th>\n",
              "      <th>ActivityName</th>\n",
              "    </tr>\n",
              "  </thead>\n",
              "  <tbody>\n",
              "    <tr>\n",
              "      <th>1505</th>\n",
              "      <td>0.325086</td>\n",
              "      <td>-0.083458</td>\n",
              "      <td>-0.069686</td>\n",
              "      <td>-0.226714</td>\n",
              "      <td>-0.001029</td>\n",
              "      <td>-0.442841</td>\n",
              "      <td>-0.244126</td>\n",
              "      <td>-0.025467</td>\n",
              "      <td>-0.404585</td>\n",
              "      <td>-0.022844</td>\n",
              "      <td>...</td>\n",
              "      <td>-0.312017</td>\n",
              "      <td>0.800818</td>\n",
              "      <td>0.942260</td>\n",
              "      <td>-0.487479</td>\n",
              "      <td>-0.737955</td>\n",
              "      <td>0.278947</td>\n",
              "      <td>0.027828</td>\n",
              "      <td>12</td>\n",
              "      <td>2</td>\n",
              "      <td>WALKING_UPSTAIRS</td>\n",
              "    </tr>\n",
              "    <tr>\n",
              "      <th>1155</th>\n",
              "      <td>0.417146</td>\n",
              "      <td>-0.012465</td>\n",
              "      <td>-0.142213</td>\n",
              "      <td>-0.043340</td>\n",
              "      <td>-0.133504</td>\n",
              "      <td>-0.410114</td>\n",
              "      <td>-0.133404</td>\n",
              "      <td>-0.164355</td>\n",
              "      <td>-0.446275</td>\n",
              "      <td>0.174388</td>\n",
              "      <td>...</td>\n",
              "      <td>-0.728549</td>\n",
              "      <td>0.851096</td>\n",
              "      <td>0.008263</td>\n",
              "      <td>-0.533100</td>\n",
              "      <td>-0.909459</td>\n",
              "      <td>0.044622</td>\n",
              "      <td>-0.022294</td>\n",
              "      <td>10</td>\n",
              "      <td>1</td>\n",
              "      <td>WALKING</td>\n",
              "    </tr>\n",
              "  </tbody>\n",
              "</table>\n",
              "<p>2 rows × 564 columns</p>\n",
              "</div>\n",
              "      <button class=\"colab-df-convert\" onclick=\"convertToInteractive('df-2c3fe6b6-3f24-4995-b743-6f8dc6cfbafd')\"\n",
              "              title=\"Convert this dataframe to an interactive table.\"\n",
              "              style=\"display:none;\">\n",
              "        \n",
              "  <svg xmlns=\"http://www.w3.org/2000/svg\" height=\"24px\"viewBox=\"0 0 24 24\"\n",
              "       width=\"24px\">\n",
              "    <path d=\"M0 0h24v24H0V0z\" fill=\"none\"/>\n",
              "    <path d=\"M18.56 5.44l.94 2.06.94-2.06 2.06-.94-2.06-.94-.94-2.06-.94 2.06-2.06.94zm-11 1L8.5 8.5l.94-2.06 2.06-.94-2.06-.94L8.5 2.5l-.94 2.06-2.06.94zm10 10l.94 2.06.94-2.06 2.06-.94-2.06-.94-.94-2.06-.94 2.06-2.06.94z\"/><path d=\"M17.41 7.96l-1.37-1.37c-.4-.4-.92-.59-1.43-.59-.52 0-1.04.2-1.43.59L10.3 9.45l-7.72 7.72c-.78.78-.78 2.05 0 2.83L4 21.41c.39.39.9.59 1.41.59.51 0 1.02-.2 1.41-.59l7.78-7.78 2.81-2.81c.8-.78.8-2.07 0-2.86zM5.41 20L4 18.59l7.72-7.72 1.47 1.35L5.41 20z\"/>\n",
              "  </svg>\n",
              "      </button>\n",
              "      \n",
              "  <style>\n",
              "    .colab-df-container {\n",
              "      display:flex;\n",
              "      flex-wrap:wrap;\n",
              "      gap: 12px;\n",
              "    }\n",
              "\n",
              "    .colab-df-convert {\n",
              "      background-color: #E8F0FE;\n",
              "      border: none;\n",
              "      border-radius: 50%;\n",
              "      cursor: pointer;\n",
              "      display: none;\n",
              "      fill: #1967D2;\n",
              "      height: 32px;\n",
              "      padding: 0 0 0 0;\n",
              "      width: 32px;\n",
              "    }\n",
              "\n",
              "    .colab-df-convert:hover {\n",
              "      background-color: #E2EBFA;\n",
              "      box-shadow: 0px 1px 2px rgba(60, 64, 67, 0.3), 0px 1px 3px 1px rgba(60, 64, 67, 0.15);\n",
              "      fill: #174EA6;\n",
              "    }\n",
              "\n",
              "    [theme=dark] .colab-df-convert {\n",
              "      background-color: #3B4455;\n",
              "      fill: #D2E3FC;\n",
              "    }\n",
              "\n",
              "    [theme=dark] .colab-df-convert:hover {\n",
              "      background-color: #434B5C;\n",
              "      box-shadow: 0px 1px 3px 1px rgba(0, 0, 0, 0.15);\n",
              "      filter: drop-shadow(0px 1px 2px rgba(0, 0, 0, 0.3));\n",
              "      fill: #FFFFFF;\n",
              "    }\n",
              "  </style>\n",
              "\n",
              "      <script>\n",
              "        const buttonEl =\n",
              "          document.querySelector('#df-2c3fe6b6-3f24-4995-b743-6f8dc6cfbafd button.colab-df-convert');\n",
              "        buttonEl.style.display =\n",
              "          google.colab.kernel.accessAllowed ? 'block' : 'none';\n",
              "\n",
              "        async function convertToInteractive(key) {\n",
              "          const element = document.querySelector('#df-2c3fe6b6-3f24-4995-b743-6f8dc6cfbafd');\n",
              "          const dataTable =\n",
              "            await google.colab.kernel.invokeFunction('convertToInteractive',\n",
              "                                                     [key], {});\n",
              "          if (!dataTable) return;\n",
              "\n",
              "          const docLinkHtml = 'Like what you see? Visit the ' +\n",
              "            '<a target=\"_blank\" href=https://colab.research.google.com/notebooks/data_table.ipynb>data table notebook</a>'\n",
              "            + ' to learn more about interactive tables.';\n",
              "          element.innerHTML = '';\n",
              "          dataTable['output_type'] = 'display_data';\n",
              "          await google.colab.output.renderOutput(dataTable, element);\n",
              "          const docLink = document.createElement('div');\n",
              "          docLink.innerHTML = docLinkHtml;\n",
              "          element.appendChild(docLink);\n",
              "        }\n",
              "      </script>\n",
              "    </div>\n",
              "  </div>\n",
              "  "
            ],
            "text/plain": [
              "     tBodyAcc-mean()-X tBodyAcc-mean()-Y tBodyAcc-mean()-Z tBodyAcc-std()-X  \\\n",
              "1505          0.325086         -0.083458         -0.069686        -0.226714   \n",
              "1155          0.417146         -0.012465         -0.142213        -0.043340   \n",
              "\n",
              "     tBodyAcc-std()-Y tBodyAcc-std()-Z tBodyAcc-mad()-X tBodyAcc-mad()-Y  \\\n",
              "1505        -0.001029        -0.442841        -0.244126        -0.025467   \n",
              "1155        -0.133504        -0.410114        -0.133404        -0.164355   \n",
              "\n",
              "     tBodyAcc-mad()-Z tBodyAcc-max()-X  ... angle(tBodyAccMean,gravity)  \\\n",
              "1505        -0.404585        -0.022844  ...                   -0.312017   \n",
              "1155        -0.446275         0.174388  ...                   -0.728549   \n",
              "\n",
              "     angle(tBodyAccJerkMean),gravityMean) angle(tBodyGyroMean,gravityMean)  \\\n",
              "1505                             0.800818                         0.942260   \n",
              "1155                             0.851096                         0.008263   \n",
              "\n",
              "     angle(tBodyGyroJerkMean,gravityMean) angle(X,gravityMean)  \\\n",
              "1505                            -0.487479            -0.737955   \n",
              "1155                            -0.533100            -0.909459   \n",
              "\n",
              "     angle(Y,gravityMean) angle(Z,gravityMean) subject Activity  \\\n",
              "1505             0.278947             0.027828      12        2   \n",
              "1155             0.044622            -0.022294      10        1   \n",
              "\n",
              "          ActivityName  \n",
              "1505  WALKING_UPSTAIRS  \n",
              "1155           WALKING  \n",
              "\n",
              "[2 rows x 564 columns]"
            ]
          },
          "metadata": {},
          "execution_count": 576
        }
      ]
    },
    {
      "cell_type": "code",
      "source": [
        "df = pd.concat([test, train])"
      ],
      "metadata": {
        "id": "pguYvR3wyT4d"
      },
      "execution_count": 580,
      "outputs": []
    },
    {
      "cell_type": "code",
      "source": [
        "print('Shape of the data set: ' + str(df.shape))"
      ],
      "metadata": {
        "colab": {
          "base_uri": "https://localhost:8080/"
        },
        "id": "SgMgdpuizhns",
        "outputId": "bd8a0f02-5fb8-42a1-af88-b37a1ffffba4"
      },
      "execution_count": 581,
      "outputs": [
        {
          "output_type": "stream",
          "name": "stdout",
          "text": [
            "Shape of the data set: (10299, 564)\n"
          ]
        }
      ]
    },
    {
      "cell_type": "markdown",
      "source": [
        "# Data Exploration"
      ],
      "metadata": {
        "id": "BsVNI-UxYStE"
      }
    },
    {
      "cell_type": "markdown",
      "metadata": {
        "id": "NP2WlyLNSxvM"
      },
      "source": [
        "### 1. Check for Duplicates"
      ]
    },
    {
      "cell_type": "code",
      "execution_count": 582,
      "metadata": {
        "colab": {
          "base_uri": "https://localhost:8080/"
        },
        "id": "pnH4Hr73SxvN",
        "outputId": "24dcbcf4-b37d-4cbb-d03c-983532f6090d"
      },
      "outputs": [
        {
          "output_type": "stream",
          "name": "stderr",
          "text": [
            "/usr/local/lib/python3.7/dist-packages/ipykernel/ipkernel.py:208: PerformanceWarning: indexing past lexsort depth may impact performance.\n",
            "  res = shell.run_cell(code, store_history=store_history, silent=silent)\n"
          ]
        },
        {
          "output_type": "stream",
          "name": "stdout",
          "text": [
            "No of duplicates in train: 0\n"
          ]
        }
      ],
      "source": [
        "print('No of duplicates in train: {}'.format(sum(df.duplicated())))"
      ]
    },
    {
      "cell_type": "markdown",
      "metadata": {
        "id": "D10ZctbFSxvO"
      },
      "source": [
        "### 2. Checking for NaN/null values"
      ]
    },
    {
      "cell_type": "code",
      "execution_count": 583,
      "metadata": {
        "colab": {
          "base_uri": "https://localhost:8080/"
        },
        "id": "Vh4-b7idSxvO",
        "outputId": "426db531-b9a2-4c9b-fbd2-bdadc1a7456c"
      },
      "outputs": [
        {
          "output_type": "stream",
          "name": "stdout",
          "text": [
            "We have 0 NaN/Null values in train\n"
          ]
        }
      ],
      "source": [
        "print('We have {} NaN/Null values in train'.format(df.isnull().values.sum()))"
      ]
    },
    {
      "cell_type": "code",
      "source": [
        "df.to_csv('df.csv', index=False)\n",
        "df = pd.read_csv('df.csv')"
      ],
      "metadata": {
        "id": "Z6CzAC4LTZEP"
      },
      "execution_count": 584,
      "outputs": []
    },
    {
      "cell_type": "code",
      "source": [
        "columns = df.columns\n",
        "\n",
        "# Removing '()' from column names\n",
        "columns = columns.str.replace('[()]','')\n",
        "columns = columns.str.replace('[-]', '')\n",
        "columns = columns.str.replace('[,]','')\n",
        "\n",
        "df.columns = columns"
      ],
      "metadata": {
        "colab": {
          "base_uri": "https://localhost:8080/"
        },
        "id": "eedPhK8iUnkx",
        "outputId": "3f0ade9e-e9ca-47ed-a121-5a7c5471404b"
      },
      "execution_count": 589,
      "outputs": [
        {
          "output_type": "stream",
          "name": "stderr",
          "text": [
            "/usr/local/lib/python3.7/dist-packages/ipykernel_launcher.py:4: FutureWarning: The default value of regex will change from True to False in a future version.\n",
            "  after removing the cwd from sys.path.\n",
            "/usr/local/lib/python3.7/dist-packages/ipykernel_launcher.py:5: FutureWarning: The default value of regex will change from True to False in a future version.\n",
            "  \"\"\"\n",
            "/usr/local/lib/python3.7/dist-packages/ipykernel_launcher.py:6: FutureWarning: The default value of regex will change from True to False in a future version.\n",
            "  \n"
          ]
        }
      ]
    },
    {
      "cell_type": "markdown",
      "source": [
        "Activity per Subject"
      ],
      "metadata": {
        "id": "M_aAT-_tVTXo"
      }
    },
    {
      "cell_type": "code",
      "source": [
        "plt.figure(figsize=(20,15))\n",
        "plt.title('Data provided by each user', fontsize=20)\n",
        "sns.countplot(x='subject',hue='ActivityName', data = df)\n",
        "plt.show()"
      ],
      "metadata": {
        "colab": {
          "base_uri": "https://localhost:8080/",
          "height": 532
        },
        "id": "7Y-JCMo3Ut0i",
        "outputId": "ed4b67d7-a0a0-4c87-fd8e-297f4c891f9f"
      },
      "execution_count": 590,
      "outputs": [
        {
          "output_type": "display_data",
          "data": {
            "image/png": "[encoded data removed]",
            "text/plain": [
              "<Figure size 1440x1080 with 1 Axes>"
            ]
          },
          "metadata": {
            "needs_background": "light"
          }
        }
      ]
    },
    {
      "cell_type": "markdown",
      "source": [
        "Activity Count"
      ],
      "metadata": {
        "id": "dO0vJDvoWySy"
      }
    },
    {
      "cell_type": "code",
      "source": [
        "sns.countplot(x ='ActivityName', data = df)\n",
        "plt.xticks(rotation=90)\n",
        "plt.title(\"Count per Activity\")"
      ],
      "metadata": {
        "colab": {
          "base_uri": "https://localhost:8080/",
          "height": 421
        },
        "id": "eBiQAZC7Vb-X",
        "outputId": "8b990033-f0b8-4e6e-b76d-0a617a58f411"
      },
      "execution_count": 591,
      "outputs": [
        {
          "output_type": "execute_result",
          "data": {
            "text/plain": [
              "Text(0.5, 1.0, 'Count per Activity')"
            ]
          },
          "metadata": {},
          "execution_count": 591
        },
        {
          "output_type": "display_data",
          "data": {
            "image/png": "[encoded data removed]",
            "text/plain": [
              "<Figure size 432x288 with 1 Axes>"
            ]
          },
          "metadata": {
            "needs_background": "light"
          }
        }
      ]
    },
    {
      "cell_type": "markdown",
      "source": [
        "Moving vs Stationary Activities"
      ],
      "metadata": {
        "id": "mUMlw3XpYHrk"
      }
    },
    {
      "cell_type": "code",
      "source": [
        "sns.set_palette(\"Set1\", desat=0.80)\n",
        "facetgrid = sns.FacetGrid(df, hue='ActivityName', height=5,aspect=2)\n",
        "facetgrid.map(sns.distplot,'tBodyAccMagmean', hist=False)\\\n",
        "    .add_legend()\n",
        "plt.annotate(\"Stationary Activities\", xy=(-0.960,12), xytext=(-0.5, 15), size=20,\\\n",
        "            va='center', ha='left',\\\n",
        "            arrowprops=dict(arrowstyle=\"simple\",connectionstyle=\"arc3,rad=0.1\"))\n",
        "\n",
        "plt.annotate(\"Moving Activities\", xy=(0,3), xytext=(0.2, 9), size=20,\\\n",
        "            va='center', ha='left',\\\n",
        "            arrowprops=dict(arrowstyle=\"simple\",connectionstyle=\"arc3,rad=0.1\"))\n",
        "plt.show()"
      ],
      "metadata": {
        "colab": {
          "base_uri": "https://localhost:8080/",
          "height": 523
        },
        "id": "RURWNfLzz28j",
        "outputId": "5d790768-7820-4b40-f3fe-760aef44fdc4"
      },
      "execution_count": 596,
      "outputs": [
        {
          "output_type": "stream",
          "name": "stderr",
          "text": [
            "/usr/local/lib/python3.7/dist-packages/seaborn/distributions.py:2619: FutureWarning: `distplot` is a deprecated function and will be removed in a future version. Please adapt your code to use either `displot` (a figure-level function with similar flexibility) or `kdeplot` (an axes-level function for kernel density plots).\n",
            "  warnings.warn(msg, FutureWarning)\n",
            "/usr/local/lib/python3.7/dist-packages/seaborn/distributions.py:2619: FutureWarning: `distplot` is a deprecated function and will be removed in a future version. Please adapt your code to use either `displot` (a figure-level function with similar flexibility) or `kdeplot` (an axes-level function for kernel density plots).\n",
            "  warnings.warn(msg, FutureWarning)\n",
            "/usr/local/lib/python3.7/dist-packages/seaborn/distributions.py:2619: FutureWarning: `distplot` is a deprecated function and will be removed in a future version. Please adapt your code to use either `displot` (a figure-level function with similar flexibility) or `kdeplot` (an axes-level function for kernel density plots).\n",
            "  warnings.warn(msg, FutureWarning)\n",
            "/usr/local/lib/python3.7/dist-packages/seaborn/distributions.py:2619: FutureWarning: `distplot` is a deprecated function and will be removed in a future version. Please adapt your code to use either `displot` (a figure-level function with similar flexibility) or `kdeplot` (an axes-level function for kernel density plots).\n",
            "  warnings.warn(msg, FutureWarning)\n",
            "/usr/local/lib/python3.7/dist-packages/seaborn/distributions.py:2619: FutureWarning: `distplot` is a deprecated function and will be removed in a future version. Please adapt your code to use either `displot` (a figure-level function with similar flexibility) or `kdeplot` (an axes-level function for kernel density plots).\n",
            "  warnings.warn(msg, FutureWarning)\n",
            "/usr/local/lib/python3.7/dist-packages/seaborn/distributions.py:2619: FutureWarning: `distplot` is a deprecated function and will be removed in a future version. Please adapt your code to use either `displot` (a figure-level function with similar flexibility) or `kdeplot` (an axes-level function for kernel density plots).\n",
            "  warnings.warn(msg, FutureWarning)\n"
          ]
        },
        {
          "output_type": "display_data",
          "data": {
            "image/png": "[encoded data removed]",
            "text/plain": [
              "<Figure size 874.625x360 with 1 Axes>"
            ]
          },
          "metadata": {
            "needs_background": "light"
          }
        }
      ]
    },
    {
      "cell_type": "markdown",
      "source": [
        "# Feature Selection"
      ],
      "metadata": {
        "id": "y8Fx47hb1IL7"
      }
    },
    {
      "cell_type": "code",
      "source": [
        "print(df.shape)"
      ],
      "metadata": {
        "colab": {
          "base_uri": "https://localhost:8080/"
        },
        "id": "GnXsWO7z3QhW",
        "outputId": "b8889570-fa68-4aad-f7fd-12e39afd6d89"
      },
      "execution_count": 597,
      "outputs": [
        {
          "output_type": "stream",
          "name": "stdout",
          "text": [
            "(10299, 564)\n"
          ]
        }
      ]
    },
    {
      "cell_type": "code",
      "source": [
        "features = df.drop(['subject','ActivityName'], axis=1)"
      ],
      "metadata": {
        "id": "Bj0ksAVItGjD"
      },
      "execution_count": 598,
      "outputs": []
    },
    {
      "cell_type": "code",
      "source": [
        "from sklearn.feature_selection import SelectKBest, f_regression\n",
        "def select_k_best(train_data,k):\n",
        "  train_data = train_data.apply(pd.to_numeric).astype('float32')\n",
        "\n",
        "  kb = SelectKBest(score_func=f_regression, k=k)\n",
        "  kb.fit(train_data.loc[:, train_data.columns != 'Activity'], train_data.Activity)\n",
        "  indices = np.argsort(kb.scores_)[::-1]\n",
        "  selected_features = []\n",
        "  for i in range(k):\n",
        "    selected_features.append(train_data.columns[indices[i]])\n",
        "  return selected_features"
      ],
      "metadata": {
        "id": "wW02AOwTsjVO"
      },
      "execution_count": 599,
      "outputs": []
    },
    {
      "cell_type": "code",
      "source": [
        "k_no_features = 200\n",
        "selected_features_k_best = select_k_best(features,k_no_features)"
      ],
      "metadata": {
        "id": "PNr39mkes-pO"
      },
      "execution_count": 600,
      "outputs": []
    },
    {
      "cell_type": "code",
      "source": [
        "features_names_df = pd.DataFrame(list(features.columns),columns =['featureNames'])"
      ],
      "metadata": {
        "id": "KAc4WZ19ug1d"
      },
      "execution_count": 601,
      "outputs": []
    },
    {
      "cell_type": "code",
      "source": [
        "print(features_names_df.head())"
      ],
      "metadata": {
        "colab": {
          "base_uri": "https://localhost:8080/"
        },
        "id": "Cj0QVXE4u7gV",
        "outputId": "e55a7a40-9956-4e89-ddbd-e6f6a638cc2c"
      },
      "execution_count": 602,
      "outputs": [
        {
          "output_type": "stream",
          "name": "stdout",
          "text": [
            "    featureNames\n",
            "0  tBodyAccmeanX\n",
            "1  tBodyAccmeanY\n",
            "2  tBodyAccmeanZ\n",
            "3   tBodyAccstdX\n",
            "4   tBodyAccstdY\n"
          ]
        }
      ]
    },
    {
      "cell_type": "markdown",
      "source": [
        "Takes time as computing silohette score for 560 features"
      ],
      "metadata": {
        "id": "8j-rfdZnzxAE"
      }
    },
    {
      "cell_type": "code",
      "source": [
        "features_selected = features[selected_features_k_best].copy()"
      ],
      "metadata": {
        "id": "Gx_ZtJ-YIz3f"
      },
      "execution_count": 603,
      "outputs": []
    },
    {
      "cell_type": "code",
      "source": [
        "print(features_selected.shape)"
      ],
      "metadata": {
        "colab": {
          "base_uri": "https://localhost:8080/"
        },
        "id": "qezAcGAkj3xD",
        "outputId": "70a6ade9-32ed-4808-f270-d7fb923e71dd"
      },
      "execution_count": 604,
      "outputs": [
        {
          "output_type": "stream",
          "name": "stdout",
          "text": [
            "(10299, 200)\n"
          ]
        }
      ]
    },
    {
      "cell_type": "markdown",
      "source": [
        "# Pre-processing"
      ],
      "metadata": {
        "id": "a0jKBoulz8bD"
      }
    },
    {
      "cell_type": "code",
      "source": [
        "X_train = features_selected \n",
        "y_train_6_classes = df['Activity']\n",
        "y_train_6_classes_labels = df['ActivityName']"
      ],
      "metadata": {
        "id": "4mc7UusfzoPf"
      },
      "execution_count": 605,
      "outputs": []
    },
    {
      "cell_type": "code",
      "source": [
        "conditions_2_classes = [(df['Activity'] <= 3),(df['Activity'] > 3)]\n",
        "values_2_classes = [0, 1]\n",
        "y_train_2_classes = np.select(conditions_2_classes, values_2_classes)"
      ],
      "metadata": {
        "id": "oPQDSLqNxKmC"
      },
      "execution_count": 606,
      "outputs": []
    },
    {
      "cell_type": "code",
      "source": [
        "conditions_2_classes_labels = [(y_train_2_classes == 0),(y_train_2_classes == 1)]\n",
        "values_2_classes_labels = [\"MOTION\",\"STATIONARY\",]\n",
        "y_train_2_classes_labels = np.select(conditions_2_classes_labels, values_2_classes_labels)"
      ],
      "metadata": {
        "id": "UruZS4EIgMz_"
      },
      "execution_count": 607,
      "outputs": []
    },
    {
      "cell_type": "code",
      "source": [
        "#normalize the dataset\n",
        "scaler = StandardScaler()\n",
        "X_train = scaler.fit_transform(X_train)"
      ],
      "metadata": {
        "id": "jdpALv4s0BmN"
      },
      "execution_count": 608,
      "outputs": []
    },
    {
      "cell_type": "markdown",
      "source": [
        "# Metrics"
      ],
      "metadata": {
        "id": "XqBz-X8oxeqM"
      }
    },
    {
      "cell_type": "code",
      "source": [
        "def get_dbscan_metrics(targets, c_labels,name):\n",
        "  evaluation_results = []\n",
        "  n_clusters_ = len(set(c_labels)) - (1 if -1 in c_labels else 0)\n",
        "  evaluation_results.append(n_clusters_)\n",
        "  evaluation_results.append(metrics.homogeneity_score(targets, c_labels))\n",
        "  evaluation_results.append(metrics.completeness_score(targets, c_labels))\n",
        "  evaluation_results.append(metrics.v_measure_score(targets, c_labels))\n",
        "  evaluation_results.append(metrics.adjusted_rand_score(targets,c_labels))\n",
        "  evaluation_results.append(metrics.adjusted_mutual_info_score(targets, c_labels))\n",
        "  evaluation_results = [ '%.2f' % elem for elem in evaluation_results]\n",
        "  evaluation_results.insert(0, name)\n",
        "  return evaluation_results"
      ],
      "metadata": {
        "id": "NX9fxBJpti1n"
      },
      "execution_count": 609,
      "outputs": []
    },
    {
      "cell_type": "code",
      "source": [
        "from prettytable import PrettyTable\n",
        "def print_metrics(evaluation_results):\n",
        "  labels = ['name','no_clusters', 'homo','compl','v-meas','ARI','AMI']\n",
        "  results = evaluation_results  \n",
        "  t = PrettyTable(labels)\n",
        "  t.add_row(results)\n",
        "  return t"
      ],
      "metadata": {
        "id": "qumtVe7Atd9R"
      },
      "execution_count": 610,
      "outputs": []
    },
    {
      "cell_type": "code",
      "source": [
        "# Plot the clusters\n",
        "def plot_dbscan_cluster(ax,title,dataframe,labels):\n",
        "  ax.scatter(dataframe[:, 0], dataframe[:,1], c = labels, cmap= \"plasma\") \n",
        "  ax.title.set_text(title)\n",
        "  ax.set_xlabel(\"Component 1\")\n",
        "  ax.set_ylabel(\"Component 2\")"
      ],
      "metadata": {
        "id": "cMQ6GEirztU3"
      },
      "execution_count": 611,
      "outputs": []
    },
    {
      "cell_type": "code",
      "source": [
        "def visualise_labels(dataframe,targets,colors):\n",
        "  import matplotlib.pyplot as plt\n",
        "  fig = plt.figure(figsize = (8,8))\n",
        "  ax = fig.add_subplot(1,1,1) \n",
        "  ax.set_xlabel('Principal Component 1', fontsize = 15)\n",
        "  ax.set_ylabel('Principal Component 2', fontsize = 15)\n",
        "  ax.set_title('2 component PCA', fontsize = 20)\n",
        "  \n",
        "  for target, color in zip(targets,colors):\n",
        "      indicesToKeep = dataframe['ActivityName'] == target\n",
        "      ax.scatter(dataframe.loc[indicesToKeep, 'principal component 1']\n",
        "                , dataframe.loc[indicesToKeep, 'principal component 2']\n",
        "                , c = color\n",
        "                , s = 50)\n",
        "  ax.legend(targets)\n",
        "  ax.grid()"
      ],
      "metadata": {
        "id": "BCBkT8Q7-eLz"
      },
      "execution_count": 612,
      "outputs": []
    },
    {
      "cell_type": "code",
      "source": [
        "def get_optimal_epislon(start,end,min_points,dataframe,targets):\n",
        "    high_score = 0\n",
        "    optimal_epsilon = 0\n",
        "    for epsilon_current in range(start, end):\n",
        "        # print(\"episilon current:  \" + str(epsilon_current))\n",
        "        labels = getDbscan(epsilon_current, min_points, dataframe)\n",
        "        score = metrics.homogeneity_score(targets, labels)\n",
        "        # print(\"episilon current score:  \" + str(score))\n",
        "        if score >= high_score:\n",
        "            optimal_epsilon = epsilon_current\n",
        "            high_score = score\n",
        "    return optimal_epsilon"
      ],
      "metadata": {
        "id": "-chThqvS7TxY"
      },
      "execution_count": 613,
      "outputs": []
    },
    {
      "cell_type": "code",
      "source": [
        "def plot_cluster(ax,graph_title,dataframe,target_names,colors,labels):\n",
        "  # Supply the limits since random data will be plotted\n",
        "  ax.set_xlabel('Principal Component 1', fontsize = 15)\n",
        "  ax.set_ylabel('Principal Component 2', fontsize = 15)\n",
        "  ax.set_title(graph_title, fontsize = 20)\n",
        "\n",
        "  for target, color in zip(target_names,colors):\n",
        "      indicesToKeep = labels == target\n",
        "      ax.scatter(dataframe.loc[indicesToKeep, 'principal component 1']\n",
        "                , dataframe.loc[indicesToKeep, 'principal component 2']\n",
        "                , c = color\n",
        "                , s = 50)\n",
        "  ax.legend(target_names)\n",
        "  ax.grid()"
      ],
      "metadata": {
        "id": "Lb8UprYjJyLj"
      },
      "execution_count": 614,
      "outputs": []
    },
    {
      "cell_type": "markdown",
      "source": [
        "# DBSCAN"
      ],
      "metadata": {
        "id": "fUYYDQXtBtkU"
      }
    },
    {
      "cell_type": "code",
      "source": [
        "def getDbscan(eps, min_samples, data_frame):\n",
        "    dbscan = DBSCAN(eps=eps, min_samples=min_samples).fit(data_frame)\n",
        "    dbscan.fit(data_frame)\n",
        "    c_labels = dbscan.labels_\n",
        "    return c_labels"
      ],
      "metadata": {
        "id": "QhGCQ9tG0Kls"
      },
      "execution_count": 37,
      "outputs": []
    },
    {
      "cell_type": "code",
      "source": [
        "def findDBSCANOptimalEpsilon(features,ns):\n",
        "  noOfPointsYouHave = len(features)\n",
        "  nbrs = NearestNeighbors(n_neighbors=ns).fit(features)\n",
        "  distances, indices = nbrs.kneighbors(features)\n",
        "  distanceDec = sorted(distances[:,ns-1], reverse=True)\n",
        "  plt.figure(figsize=(20,10))\n",
        "  plt.title(\"Nearest Neighbours Distance Graph\")\n",
        "  plt.plot(list(range(1,noOfPointsYouHave+1)), distanceDec)"
      ],
      "metadata": {
        "id": "aLyorEsO1Y_R"
      },
      "execution_count": 489,
      "outputs": []
    },
    {
      "cell_type": "code",
      "source": [
        "findDBSCANOptimalEpsilon(X_train,6)"
      ],
      "metadata": {
        "colab": {
          "base_uri": "https://localhost:8080/",
          "height": 363
        },
        "id": "sHgRAfKR1Z4h",
        "outputId": "a15e1732-d30c-40a4-ee98-22de55f74604"
      },
      "execution_count": 615,
      "outputs": [
        {
          "output_type": "display_data",
          "data": {
            "image/png": "[encoded data removed]",
            "text/plain": [
              "<Figure size 1440x720 with 1 Axes>"
            ]
          },
          "metadata": {
            "needs_background": "light"
          }
        }
      ]
    },
    {
      "cell_type": "markdown",
      "source": [
        "Parameter picking min_points_normal:\n",
        "minPts is selected based on the domain knowledge. If you do not have domain understanding, a rule of thumb is to derive minPts from the number of dimensions D in the data set. minPts >= D + 1. For 2D data, take minPts = 4. For larger datasets, with much noise, it suggested to go with minPts = 2 * D."
      ],
      "metadata": {
        "id": "WqgOmXV3RQCO"
      }
    },
    {
      "cell_type": "code",
      "source": [
        "number_of_features_normal = X_train.shape[1]\n",
        "min_points_normal_start = number_of_features_normal + 1\n",
        "min_points_normal_end = 2*number_of_features_normal"
      ],
      "metadata": {
        "id": "AVNTy7IwQyzJ"
      },
      "execution_count": 662,
      "outputs": []
    },
    {
      "cell_type": "code",
      "source": [
        "print(\"suggested min points is between :  \" + str(min_points_normal_start) +\n",
        "      \"  and \" + str(min_points_normal_end))"
      ],
      "metadata": {
        "colab": {
          "base_uri": "https://localhost:8080/"
        },
        "id": "d1xpf9MwR_jR",
        "outputId": "693fbc5a-6215-47dd-d56f-57a71c3f57e0"
      },
      "execution_count": 664,
      "outputs": [
        {
          "output_type": "stream",
          "name": "stdout",
          "text": [
            "suggested min points is between :  201  and 400\n"
          ]
        }
      ]
    },
    {
      "cell_type": "markdown",
      "source": [
        "Parameter picking epsilon"
      ],
      "metadata": {
        "id": "zV0RjAsNRT9D"
      }
    },
    {
      "cell_type": "code",
      "source": [
        "epsilon_normal_2_classes = 5\n",
        "cluster_labels_normal_2_classes = getDbscan(epsilon_normal_2_classes,201, X_train)\n",
        "evaluation_metrics_normal_2_classes  = get_dbscan_metrics(y_train_2_classes,cluster_labels_normal_2_classes,'PLAIN_2_CLUSTERS')\n",
        "print(print_metrics(evaluation_metrics_normal_2_classes))"
      ],
      "metadata": {
        "colab": {
          "base_uri": "https://localhost:8080/"
        },
        "id": "rrj-KO1aRn3B",
        "outputId": "d7b37960-c488-45f8-d11e-53b310d86eae"
      },
      "execution_count": 665,
      "outputs": [
        {
          "output_type": "stream",
          "name": "stdout",
          "text": [
            "+------------------+-------------+------+-------+--------+------+------+\n",
            "|       name       | no_clusters | homo | compl | v-meas | ARI  | AMI  |\n",
            "+------------------+-------------+------+-------+--------+------+------+\n",
            "| PLAIN_2_CLUSTERS |     2.00    | 0.94 |  0.66 |  0.77  | 0.79 | 0.77 |\n",
            "+------------------+-------------+------+-------+--------+------+------+\n"
          ]
        }
      ]
    },
    {
      "cell_type": "code",
      "source": [
        "epsilon_normal_6_classes = 4\n",
        "cluster_labels_normal_6_classes = getDbscan(epsilon_normal_6_classes, 34, X_train)\n",
        "evaluation_metrics_normal_6_classes  = get_dbscan_metrics(y_train_6_classes,cluster_labels_normal_6_classes,'PLAIN_6_CLUSTERS')\n",
        "print(print_metrics(evaluation_metrics_normal_6_classes))"
      ],
      "metadata": {
        "colab": {
          "base_uri": "https://localhost:8080/"
        },
        "id": "_Ss_jr9W1msJ",
        "outputId": "5327d322-7a50-4584-8464-6c6ceabda8a2"
      },
      "execution_count": 668,
      "outputs": [
        {
          "output_type": "stream",
          "name": "stdout",
          "text": [
            "+------------------+-------------+------+-------+--------+------+------+\n",
            "|       name       | no_clusters | homo | compl | v-meas | ARI  | AMI  |\n",
            "+------------------+-------------+------+-------+--------+------+------+\n",
            "| PLAIN_6_CLUSTERS |     6.00    | 0.38 |  0.66 |  0.49  | 0.31 | 0.49 |\n",
            "+------------------+-------------+------+-------+--------+------+------+\n"
          ]
        }
      ]
    },
    {
      "cell_type": "markdown",
      "source": [
        "# PCA"
      ],
      "metadata": {
        "id": "9cfHGsEHAZQ4"
      }
    },
    {
      "cell_type": "code",
      "source": [
        "#check for optimal number of features\n",
        "pca = PCA(random_state=123)\n",
        "pca.fit(X_train)\n",
        "features = range(pca.n_components_)\n",
        "\n",
        "plt.figure(figsize=(8,4))\n",
        "plt.bar(features[:15], pca.explained_variance_[:15], color='lightskyblue')\n",
        "plt.xlabel('PCA feature')\n",
        "plt.ylabel('Variance')\n",
        "plt.title('PCA feature vs Variance')\n",
        "plt.xticks(features[:15])\n",
        "plt.show()"
      ],
      "metadata": {
        "colab": {
          "base_uri": "https://localhost:8080/",
          "height": 295
        },
        "id": "1wtmjBrdAgZg",
        "outputId": "f5e3401b-9b9a-4def-9562-d3efdad76cf2"
      },
      "execution_count": 633,
      "outputs": [
        {
          "output_type": "display_data",
          "data": {
            "image/png": "[encoded data removed]",
            "text/plain": [
              "<Figure size 576x288 with 1 Axes>"
            ]
          },
          "metadata": {
            "needs_background": "light"
          }
        }
      ]
    },
    {
      "cell_type": "code",
      "source": [
        "def pca_transform(n_comp,data):\n",
        "    pca = PCA(n_components=n_comp, random_state=123)\n",
        "    dataReduced = pca.fit_transform(data)\n",
        "    print('Shape of the new Data df: ' + str(dataReduced.shape))\n",
        "    return dataReduced"
      ],
      "metadata": {
        "id": "klfJFPMSArqR"
      },
      "execution_count": 496,
      "outputs": []
    },
    {
      "cell_type": "code",
      "source": [
        "X_train_pca = pca_transform(n_comp=2, data=X_train)"
      ],
      "metadata": {
        "colab": {
          "base_uri": "https://localhost:8080/"
        },
        "id": "mrhX040CZxn_",
        "outputId": "d3d63a13-5d65-43c7-932e-47fdc3cb2f44"
      },
      "execution_count": 634,
      "outputs": [
        {
          "output_type": "stream",
          "name": "stdout",
          "text": [
            "Shape of the new Data df: (10299, 2)\n"
          ]
        }
      ]
    },
    {
      "cell_type": "code",
      "source": [
        "number_of_features_pca = X_train_pca.shape[1]\n",
        "min_points_pca_start = 1+ number_of_features_pca\n",
        "min_points_pca_end = 2*number_of_features_pca"
      ],
      "metadata": {
        "id": "3agy35onVG3Q"
      },
      "execution_count": 660,
      "outputs": []
    },
    {
      "cell_type": "code",
      "source": [
        "print(\"suggested min points is between:  \" + str(min_points_pca_start) + \" and \" \n",
        "      + str(min_points_pca_end))"
      ],
      "metadata": {
        "colab": {
          "base_uri": "https://localhost:8080/"
        },
        "id": "ceMD5Pk7Vs-t",
        "outputId": "9924e68a-f8fc-4495-b331-f995d201e7d4"
      },
      "execution_count": 661,
      "outputs": [
        {
          "output_type": "stream",
          "name": "stdout",
          "text": [
            "suggested min points is between:  3 and 4\n"
          ]
        }
      ]
    },
    {
      "cell_type": "code",
      "source": [
        "findDBSCANOptimalEpsilon(X_train_pca,6)"
      ],
      "metadata": {
        "colab": {
          "base_uri": "https://localhost:8080/",
          "height": 366
        },
        "id": "LERVwLCaN7yB",
        "outputId": "d1fca188-3bd9-49fa-c0b3-2eb3c808f4f0"
      },
      "execution_count": 637,
      "outputs": [
        {
          "output_type": "display_data",
          "data": {
            "image/png": "[encoded data removed]",
            "text/plain": [
              "<Figure size 1440x720 with 1 Axes>"
            ]
          },
          "metadata": {
            "needs_background": "light"
          }
        }
      ]
    },
    {
      "cell_type": "code",
      "source": [
        "epsilon_pca_6_classes = 1\n",
        "cluster_labels_pca_6_classes = getDbscan(epsilon_pca_6_classes, 3, X_train_pca)\n",
        "evaluation_metrics_pca_6_classes  = get_dbscan_metrics(y_train_6_classes,cluster_labels_pca_6_classes,'PCA_6_CLASSES')\n",
        "print(print_metrics(evaluation_metrics_pca_6_classes))"
      ],
      "metadata": {
        "colab": {
          "base_uri": "https://localhost:8080/"
        },
        "id": "OhpTEFTYLYiZ",
        "outputId": "76f6c5ba-402c-491d-811d-784a7d672012"
      },
      "execution_count": 646,
      "outputs": [
        {
          "output_type": "stream",
          "name": "stdout",
          "text": [
            "+---------------+-------------+------+-------+--------+------+------+\n",
            "|      name     | no_clusters | homo | compl | v-meas | ARI  | AMI  |\n",
            "+---------------+-------------+------+-------+--------+------+------+\n",
            "| PCA_6_CLASSES |     6.00    | 0.38 |  0.94 |  0.54  | 0.33 | 0.54 |\n",
            "+---------------+-------------+------+-------+--------+------+------+\n"
          ]
        }
      ]
    },
    {
      "cell_type": "code",
      "source": [
        "epsilon_pca_2_classes = 1\n",
        "cluster_labels_pca_2_classes = getDbscan(epsilon_pca_2_classes, 8, X_train_pca)\n",
        "evaluation_metrics_pca_2_classes = get_dbscan_metrics(y_train_2_classes,cluster_labels_pca_2_classes,'PCA_2_CLASSES')\n",
        "print(print_metrics(evaluation_metrics_pca_2_classes))"
      ],
      "metadata": {
        "colab": {
          "base_uri": "https://localhost:8080/"
        },
        "id": "UKUDxapeA1b6",
        "outputId": "6e94bafd-b4ba-49a1-96ec-d65ca6cab526"
      },
      "execution_count": 658,
      "outputs": [
        {
          "output_type": "stream",
          "name": "stdout",
          "text": [
            "+---------------+-------------+------+-------+--------+------+------+\n",
            "|      name     | no_clusters | homo | compl | v-meas | ARI  | AMI  |\n",
            "+---------------+-------------+------+-------+--------+------+------+\n",
            "| PCA_2_CLASSES |     2.00    | 0.98 |  0.91 |  0.95  | 0.98 | 0.95 |\n",
            "+---------------+-------------+------+-------+--------+------+------+\n"
          ]
        }
      ]
    },
    {
      "cell_type": "markdown",
      "source": [
        "# Evaluation Computational\n",
        "\n",
        "\n"
      ],
      "metadata": {
        "id": "WhX6mun4HHO3"
      }
    },
    {
      "cell_type": "markdown",
      "source": [
        "Computer efficieny methods"
      ],
      "metadata": {
        "id": "XZFsvpuTHNCY"
      }
    },
    {
      "cell_type": "code",
      "source": [
        "# The first function is to stop the tracing, if any, and to start the fresh tracing. \n",
        "# This ensures that the tracing of 2 code blocks doesn’t interfere with each other. \n",
        "def tracing_start():\n",
        "    tracemalloc.stop()\n",
        "    print(\"nTracing Status : \", tracemalloc.is_tracing())\n",
        "    tracemalloc.start()\n",
        "    print(\"Tracing Status : \", tracemalloc.is_tracing())\n",
        "\n",
        "# The second function is to find the peak size in MB of a block of code that was traced.\n",
        "def tracing_mem():\n",
        "    first_size, first_peak = tracemalloc.get_traced_memory()\n",
        "    peak = first_peak/(1024*1024)\n",
        "    print(\"peak in MB:  \" + str(peak))\n",
        "    return peak"
      ],
      "metadata": {
        "id": "nQLMrDJg-iMW"
      },
      "execution_count": 669,
      "outputs": []
    },
    {
      "cell_type": "code",
      "source": [
        "# PCA\n",
        "tracing_start()\n",
        "start = time.time()\n",
        "getDbscan(epsilon_pca_6_classes, min_points_pca, X_train_pca)\n",
        "end = time.time()\n",
        "pca_time = (end-start)*1000\n",
        "print(\"time elapsed PCA {} milli seconds\".format(pca_time))\n",
        "pca_peak = tracing_mem()\n",
        "\n",
        "# normal\n",
        "tracing_start()\n",
        "start = time.time()\n",
        "getDbscan(epsilon_normal_6_classes, min_points_normal, X_train)\n",
        "end = time.time()\n",
        "normal_time = (end-start)*1000\n",
        "print(\"time elapsed normal {} milli seconds\".format(normal_time))\n",
        "normal_peak = tracing_mem()"
      ],
      "metadata": {
        "colab": {
          "base_uri": "https://localhost:8080/"
        },
        "id": "N62YtJ0u-omC",
        "outputId": "4d8338a6-4712-4e5d-ba68-25f9847f0e89"
      },
      "execution_count": 670,
      "outputs": [
        {
          "output_type": "stream",
          "name": "stdout",
          "text": [
            "nTracing Status :  False\n",
            "Tracing Status :  True\n",
            "time elapsed PCA 648.0817794799805 milli seconds\n",
            "peak in MB:  2.8383359909057617\n",
            "nTracing Status :  False\n",
            "Tracing Status :  True\n",
            "time elapsed normal 5369.816064834595 milli seconds\n",
            "peak in MB:  988.4376173019409\n"
          ]
        }
      ]
    },
    {
      "cell_type": "code",
      "source": [
        "# Plot time\n",
        "fig = plt.figure()\n",
        "ax = fig.add_axes([0,0,1,1])\n",
        "labels = ['PCA','NON-PCA']\n",
        "times_miliseconds = [pca_time,normal_time]\n",
        "ax.bar(labels,times_miliseconds)\n",
        "plt.ylabel(\"Time in ms\")\n",
        "plt.title(\"Time PCA vs Non-PCA\")\n",
        "plt.show()\n",
        "\n",
        "# Plot speed\n",
        "fig = plt.figure()\n",
        "ax = fig.add_axes([0,0,1,1])\n",
        "labels = ['PCA','NON-PCA']\n",
        "peak_MB = [pca_peak,normal_peak]\n",
        "ax.bar(labels,peak_MB)\n",
        "plt.ylabel(\"Peak memory in MB\")\n",
        "plt.title(\"Speed PCA vs Non-PCA\")\n",
        "plt.show()"
      ],
      "metadata": {
        "colab": {
          "base_uri": "https://localhost:8080/",
          "height": 0
        },
        "id": "QWweyre7DTbd",
        "outputId": "8b637038-a38d-4209-be95-26abe05c60bb"
      },
      "execution_count": 671,
      "outputs": [
        {
          "output_type": "display_data",
          "data": {
            "image/png": "[encoded data removed]",
            "text/plain": [
              "<Figure size 432x288 with 1 Axes>"
            ]
          },
          "metadata": {
            "needs_background": "light"
          }
        },
        {
          "output_type": "display_data",
          "data": {
            "image/png": "[encoded data removed]",
            "text/plain": [
              "<Figure size 432x288 with 1 Axes>"
            ]
          },
          "metadata": {
            "needs_background": "light"
          }
        }
      ]
    },
    {
      "cell_type": "code",
      "source": [
        "pca_time = '%.2f' % pca_time\n",
        "normal_time = '%.2f' % normal_time\n",
        "pca_peak =  '%.2f' % pca_peak\n",
        "normal_peak =  '%.2f' % normal_peak\n",
        "\n",
        "labels = ['name','times_miliseconds', 'peak_memory']\n",
        "pca_computational = ['pca',pca_time,pca_peak]\n",
        "normal_computational = ['normal',normal_time,normal_peak]\n",
        "\n",
        "t_computational = PrettyTable(labels)\n",
        "t_computational.add_row(pca_computational)\n",
        "t_computational.add_row(normal_computational)\n",
        "print(t_computational)"
      ],
      "metadata": {
        "colab": {
          "base_uri": "https://localhost:8080/"
        },
        "id": "s5D-tx0SJJzs",
        "outputId": "6d469fbc-d37b-4d23-e0dc-a9534ddf75c1"
      },
      "execution_count": 672,
      "outputs": [
        {
          "output_type": "stream",
          "name": "stdout",
          "text": [
            "+--------+-------------------+-------------+\n",
            "|  name  | times_miliseconds | peak_memory |\n",
            "+--------+-------------------+-------------+\n",
            "|  pca   |       648.08      |     2.84    |\n",
            "| normal |      5369.82      |    988.44   |\n",
            "+--------+-------------------+-------------+\n"
          ]
        }
      ]
    },
    {
      "cell_type": "code",
      "source": [
        "print(pca_time)"
      ],
      "metadata": {
        "colab": {
          "base_uri": "https://localhost:8080/"
        },
        "id": "z9i4SAkwMAPx",
        "outputId": "35fcbb4e-d979-4087-9c57-56e386221bb8"
      },
      "execution_count": 673,
      "outputs": [
        {
          "output_type": "stream",
          "name": "stdout",
          "text": [
            "648.08\n"
          ]
        }
      ]
    },
    {
      "cell_type": "markdown",
      "source": [
        "# Evaluation Clustering"
      ],
      "metadata": {
        "id": "MobCk5KwZ4oW"
      }
    },
    {
      "cell_type": "markdown",
      "source": [
        "Evaluation Clustering metrics Table"
      ],
      "metadata": {
        "id": "fyXp3vmLpuqT"
      }
    },
    {
      "cell_type": "code",
      "source": [
        "t = print_metrics(evaluation_metrics_normal_6_classes)\n",
        "t.add_row(evaluation_metrics_pca_6_classes)\n",
        "t.add_row(evaluation_metrics_normal_2_classes)\n",
        "t.add_row(evaluation_metrics_pca_2_classes)\n",
        "print(t)"
      ],
      "metadata": {
        "colab": {
          "base_uri": "https://localhost:8080/"
        },
        "id": "yEY4gy-hGwmC",
        "outputId": "29049bd7-aeb7-4665-8eab-395e930af36d"
      },
      "execution_count": 674,
      "outputs": [
        {
          "output_type": "stream",
          "name": "stdout",
          "text": [
            "+------------------+-------------+------+-------+--------+------+------+\n",
            "|       name       | no_clusters | homo | compl | v-meas | ARI  | AMI  |\n",
            "+------------------+-------------+------+-------+--------+------+------+\n",
            "| PLAIN_6_CLUSTERS |     6.00    | 0.38 |  0.66 |  0.49  | 0.31 | 0.49 |\n",
            "|  PCA_6_CLASSES   |     6.00    | 0.38 |  0.94 |  0.54  | 0.33 | 0.54 |\n",
            "| PLAIN_2_CLUSTERS |     2.00    | 0.94 |  0.66 |  0.77  | 0.79 | 0.77 |\n",
            "|  PCA_2_CLASSES   |     2.00    | 0.98 |  0.91 |  0.95  | 0.98 | 0.95 |\n",
            "+------------------+-------------+------+-------+--------+------+------+\n"
          ]
        }
      ]
    },
    {
      "cell_type": "markdown",
      "source": [
        "Plot 6 Class Clusters"
      ],
      "metadata": {
        "id": "9k2vg8rjmckw"
      }
    },
    {
      "cell_type": "code",
      "source": [
        "targets_names_6_classes = [-1, 0,  1,  2,  3,  4,  5]\n",
        "targets_names_6_classes_labels = targets_names = ['WALKING', 'WALKING_UPSTAIRS', 'WALKING_DOWNSTAIRS',\n",
        "           'SITTING','STANDING','LAYING']\n",
        "colors_6_classes = ['r', 'g', 'b','m','c','y','k']\n",
        "\n",
        "df = pd.DataFrame(data = X_train_pca\n",
        "             , columns = ['principal component 1', 'principal component 2'])"
      ],
      "metadata": {
        "id": "iY7DXGDmZGdM"
      },
      "execution_count": 675,
      "outputs": []
    },
    {
      "cell_type": "code",
      "source": [
        "print(np.unique(cluster_labels_pca_2_classes))"
      ],
      "metadata": {
        "colab": {
          "base_uri": "https://localhost:8080/"
        },
        "id": "x9kS5JBcbUdN",
        "outputId": "92091088-e12c-4082-d8fa-6a27ed9e27b0"
      },
      "execution_count": 676,
      "outputs": [
        {
          "output_type": "stream",
          "name": "stdout",
          "text": [
            "[-1  0  1]\n"
          ]
        }
      ]
    },
    {
      "cell_type": "code",
      "source": [
        "# both use pca for visual comparison\n",
        "fig, (ax1, ax2, ax3) = plt.subplots(1, 3,figsize=(20,6))\n",
        "# Defining custom 'xlim' and 'ylim' values.\n",
        "custom_xlim = (-20, 100)\n",
        "custom_ylim = (-30, 60)\n",
        "\n",
        "# # Setting the values for all axes.\n",
        "plt.setp(ax1, xlim=custom_xlim, ylim=custom_ylim)\n",
        "plt.setp(ax2, xlim=custom_xlim, ylim=custom_ylim)\n",
        "plt.setp(ax3, xlim=custom_xlim, ylim=custom_ylim)\n",
        "\n",
        "fig.suptitle('Comparison of Clustering 6 Classes')\n",
        "plot_cluster(ax1,\"Normal\", df,targets_names_6_classes, colors_6_classes,cluster_labels_normal_6_classes)\n",
        "plot_cluster(ax2,\"PCA\", df,targets_names_6_classes, colors_6_classes,cluster_labels_pca_6_classes)\n",
        "plot_cluster(ax3,\"Correct\", df,targets_names_6_classes_labels,colors_6_classes,y_train_6_classes_labels)"
      ],
      "metadata": {
        "colab": {
          "base_uri": "https://localhost:8080/",
          "height": 257
        },
        "id": "dfvBd4C6JwI5",
        "outputId": "0d5501a6-3865-4362-a309-68a2c3f1936b"
      },
      "execution_count": 677,
      "outputs": [
        {
          "output_type": "display_data",
          "data": {
            "image/png": "[encoded data removed]",
            "text/plain": [
              "<Figure size 1440x432 with 3 Axes>"
            ]
          },
          "metadata": {
            "needs_background": "light"
          }
        }
      ]
    },
    {
      "cell_type": "markdown",
      "source": [
        "Plot 2 Class Clusters"
      ],
      "metadata": {
        "id": "f1kuB-8emfkR"
      }
    },
    {
      "cell_type": "code",
      "source": [
        "targets_names_2_classes = [-1, 0,  1]\n",
        "targets_names_2_classes_labels = values_2_classes_labels\n",
        "colors_2_classes = ['r', 'g', 'k']"
      ],
      "metadata": {
        "id": "t7TCS2_hf57A"
      },
      "execution_count": 678,
      "outputs": []
    },
    {
      "cell_type": "code",
      "source": [
        "custom_xlim = (-20, 100)\n",
        "custom_ylim = (-30, 60)\n",
        "\n",
        "# both use pca for visual comparison\n",
        "fig, (ax1, ax2, ax3) = plt.subplots(1, 3,figsize=(20,6))\n",
        "\n",
        "# # Setting the values for all axes.\n",
        "plt.setp(ax1, xlim=custom_xlim, ylim=custom_ylim)\n",
        "plt.setp(ax2, xlim=custom_xlim, ylim=custom_ylim)\n",
        "plt.setp(ax3, xlim=custom_xlim, ylim=custom_ylim)\n",
        "\n",
        "fig.suptitle('Comparison of Clustering 2 Classes')\n",
        "plot_cluster(ax1,\"Normal\", df,targets_names_2_classes, colors_2_classes,cluster_labels_normal_2_classes)\n",
        "plot_cluster(ax2,\"PCA\", df,targets_names_2_classes, colors_2_classes,cluster_labels_pca_2_classes)\n",
        "plot_cluster(ax3,\"Correct\", df,targets_names_2_classes_labels,colors_2_classes,y_train_2_classes_labels)"
      ],
      "metadata": {
        "colab": {
          "base_uri": "https://localhost:8080/",
          "height": 257
        },
        "id": "YbWRwJpefz_P",
        "outputId": "3e2c41ec-8c97-495b-da15-fe8e4aea9fca"
      },
      "execution_count": 679,
      "outputs": [
        {
          "output_type": "display_data",
          "data": {
            "image/png": "[encoded data removed]",
            "text/plain": [
              "<Figure size 1440x432 with 3 Axes>"
            ]
          },
          "metadata": {
            "needs_background": "light"
          }
        }
      ]
    }
  ],
  "metadata": {
    "kernelspec": {
      "display_name": "Python 3",
      "language": "python",
      "name": "python3"
    },
    "language_info": {
      "codemirror_mode": {
        "name": "ipython",
        "version": 3
      },
      "file_extension": ".py",
      "mimetype": "text/x-python",
      "name": "python",
      "nbconvert_exporter": "python",
      "pygments_lexer": "ipython3",
      "version": "3.7.6"
    },
    "colab": {
      "name": "Assignment3HumanActivityRecognition.ipynb",
      "provenance": [],
      "collapsed_sections": [
        "lckrlG-xzuk2",
        "XqBz-X8oxeqM",
        "WhX6mun4HHO3",
        "MobCk5KwZ4oW"
      ],
      "include_colab_link": true
    }
  },
  "nbformat": 4,
  "nbformat_minor": 0
}